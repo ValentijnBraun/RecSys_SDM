{
 "cells": [
  {
   "attachments": {},
   "cell_type": "markdown",
   "metadata": {},
   "source": [
    "# 1 Introduction"
   ]
  },
  {
   "attachments": {},
   "cell_type": "markdown",
   "metadata": {},
   "source": [
    "The applications of recommender systems in businesses have become increasingly popular. Recommender systems apply various sources of information including demographics, social, and preferences to provide users with tailored recommended items. Moreover, the favoured technique for building recommender systems is Collaborative filtering. This technique is further divided into three main categories including Memory-Based, Model-Based, and Hybrid-BAsed. Therefore, as large businesses realise the advantages of recommending personalized items to users, the research for techniques, sources of information, and implementation grows. Netflix is among the big organisations interested in the expansion of recommmender system. The application of recommender systems at Netflix is widely known, however improvements are continiously being investigated to provide users with the best movie and series recommendations. Thus, this notebook aims to investigate the application of collaborative filtering techniques for Netflix.      "
   ]
  },
  {
   "attachments": {},
   "cell_type": "markdown",
   "metadata": {},
   "source": [
    "Netflix wants to include jokes when a movie is paused."
   ]
  },
  {
   "attachments": {},
   "cell_type": "markdown",
   "metadata": {},
   "source": [
    "#### Which type of RecSys based on CF could Netflix use to provide the most accurate recommendations of movies and jokes to users?\n",
    "\n",
    "- How do the netflix and jester dataset compare?\n",
    "- How does KNN calculate the recommended items?\n",
    "- How does SVD calculate the recommended items?\n",
    "- How do KNN and SVD perform on both datasets?"
   ]
  },
  {
   "attachments": {},
   "cell_type": "markdown",
   "metadata": {},
   "source": [
    "# 2 Importing Libraries"
   ]
  },
  {
   "attachments": {},
   "cell_type": "markdown",
   "metadata": {},
   "source": [
    "Importing the necessary libraries"
   ]
  },
  {
   "cell_type": "code",
   "execution_count": 287,
   "metadata": {},
   "outputs": [],
   "source": [
    "# General imports\n",
    "import os\n",
    "import pandas as pd\n",
    "import numpy as np\n",
    "\n",
    "# Used for visualisations in the EDA\n",
    "import seaborn as sns\n",
    "\n",
    "# Used in reducing the memory storage of sparse matrices\n",
    "from scipy.sparse import csr_matrix\n",
    "\n",
    "# Used for creating a KNN and SVD RecSys model\n",
    "from sklearn.model_selection import train_test_split\n",
    "from sklearn.neighbors import NearestNeighbors\n",
    "from scipy.sparse.linalg import svds\n",
    "\n",
    "# Used for performance evaluation\n",
    "from sklearn.metrics import mean_squared_error, mean_absolute_error\n",
    "\n",
    "# As working with NaN values in matrices overwelmed the output with warnings \n",
    "# these warnings will be ignored.\n",
    "import warnings\n",
    "warnings.filterwarnings('ignore')"
   ]
  },
  {
   "attachments": {},
   "cell_type": "markdown",
   "metadata": {},
   "source": [
    "# 3 Data Processing"
   ]
  },
  {
   "cell_type": "code",
   "execution_count": 66,
   "metadata": {},
   "outputs": [],
   "source": [
    "debugging = True"
   ]
  },
  {
   "attachments": {},
   "cell_type": "markdown",
   "metadata": {},
   "source": [
    "## 3.1 Netflix Dataset"
   ]
  },
  {
   "attachments": {},
   "cell_type": "markdown",
   "metadata": {},
   "source": [
    "### 3.1.1 Import Source Data"
   ]
  },
  {
   "attachments": {},
   "cell_type": "markdown",
   "metadata": {},
   "source": [
    "Code to append movieId to each record in all of the source files if this has not been executed earlier. This will allow all the source files to be loaded into a dataframe with one line of code and without having to add the movieId seperately before concatting the sourcefiles. This additionally resulted in a faster importing time of the source data."
   ]
  },
  {
   "cell_type": "code",
   "execution_count": 67,
   "metadata": {},
   "outputs": [],
   "source": [
    "def format_netflix_source():\n",
    "    # Variable to keep track of which movieId has to be appended\n",
    "    x = 0\n",
    "    string = \",\"+str(x)\n",
    "\n",
    "    # Loop through each file in the directory\n",
    "    for filename in os.listdir(directory):\n",
    "        with open(os.path.join(directory, filename), 'r') as f:\n",
    "            # Check if the first line of the first file already has been formatted\n",
    "            # If true formatting the source will be skipped\n",
    "            if(f.readlines()[0] == '1:,1\\n'):\n",
    "                print('Source is already formatted, continuing \\n')\n",
    "                return\n",
    "            else:\n",
    "                print('Started formatting source files \\n')\n",
    "                # Append a ',', movieId and \\n (newline) to each line resulting in an extra column with movieId when using pandas read_csv \n",
    "                file_lines = [''.join([x.strip(), string, '\\n']) for x in f.readlines()]\n",
    "        with open(os.path.join(directory, filename), 'w') as f:\n",
    "            # Save the formatted file\n",
    "            f.writelines(file_lines)\n",
    "            print('Completed formatting source files')\n",
    "    return"
   ]
  },
  {
   "attachments": {},
   "cell_type": "markdown",
   "metadata": {},
   "source": [
    "Creating the movie dataframe by concatting all the sourcefiles without their title (skiprows=1). Concluding with naming the columns."
   ]
  },
  {
   "cell_type": "code",
   "execution_count": 68,
   "metadata": {},
   "outputs": [
    {
     "name": "stdout",
     "output_type": "stream",
     "text": [
      "Source is already formatted, continuing \n",
      "\n",
      "Started concatting all source files to DataFrame \n",
      "\n",
      "Completed concatting all source files to DataFrame \n",
      "\n"
     ]
    },
    {
     "data": {
      "text/html": [
       "<div>\n",
       "<style scoped>\n",
       "    .dataframe tbody tr th:only-of-type {\n",
       "        vertical-align: middle;\n",
       "    }\n",
       "\n",
       "    .dataframe tbody tr th {\n",
       "        vertical-align: top;\n",
       "    }\n",
       "\n",
       "    .dataframe thead th {\n",
       "        text-align: right;\n",
       "    }\n",
       "</style>\n",
       "<table border=\"1\" class=\"dataframe\">\n",
       "  <thead>\n",
       "    <tr style=\"text-align: right;\">\n",
       "      <th></th>\n",
       "      <th>userId</th>\n",
       "      <th>rating</th>\n",
       "      <th>itemId</th>\n",
       "    </tr>\n",
       "  </thead>\n",
       "  <tbody>\n",
       "    <tr>\n",
       "      <th>0</th>\n",
       "      <td>1488844</td>\n",
       "      <td>3</td>\n",
       "      <td>1</td>\n",
       "    </tr>\n",
       "    <tr>\n",
       "      <th>1</th>\n",
       "      <td>822109</td>\n",
       "      <td>5</td>\n",
       "      <td>1</td>\n",
       "    </tr>\n",
       "    <tr>\n",
       "      <th>2</th>\n",
       "      <td>885013</td>\n",
       "      <td>4</td>\n",
       "      <td>1</td>\n",
       "    </tr>\n",
       "  </tbody>\n",
       "</table>\n",
       "</div>"
      ],
      "text/plain": [
       "    userId  rating  itemId\n",
       "0  1488844       3       1\n",
       "1   822109       5       1\n",
       "2   885013       4       1"
      ]
     },
     "metadata": {},
     "output_type": "display_data"
    }
   ],
   "source": [
    "# Define the folder in which all the seperate movie files are located\n",
    "directory = \"/Users/vbraun/Downloads/training_set/\"\n",
    "\n",
    "# Run the function to format the source data if necessary\n",
    "format_netflix_source()\n",
    "\n",
    "print('Started concatting all source files to DataFrame \\n')\n",
    "# Performing 1 concat on all sourcefiles to create one dataframe (including itemId)\n",
    "# As the files do not have a header and differ between each other 'header' = None and the first row will be skipped\n",
    "netflix_df = pd.concat(pd.read_csv(os.path.join(directory, fname), skiprows=1,header=None) for fname in os.listdir(directory)).rename(columns={0:'userId',1:'rating',2:'date',3:'itemId'})\n",
    "print('Completed concatting all source files to DataFrame \\n')\n",
    "\n",
    "# Dropping the date column as this is not relevant for this recommender system\n",
    "netflix_df = netflix_df.drop(columns='date')\n",
    "\n",
    "display(netflix_df.head(3))"
   ]
  },
  {
   "attachments": {},
   "cell_type": "markdown",
   "metadata": {},
   "source": [
    "### 3.1.2 Data Filtering"
   ]
  },
  {
   "attachments": {},
   "cell_type": "markdown",
   "metadata": {},
   "source": [
    "To allow for faster development a debugging variable is used. If debugging is True the dataset will only consist of the first 100 movies. For the final model, debugging will be set to False."
   ]
  },
  {
   "cell_type": "code",
   "execution_count": 69,
   "metadata": {},
   "outputs": [
    {
     "name": "stdout",
     "output_type": "stream",
     "text": [
      "Debugging is set to True: limiting the dataset to the first 100 movies\n",
      "Length of selected dataset: 352771 \n",
      "\n"
     ]
    }
   ],
   "source": [
    "# In order to achieve faster execution time of the while developing a selection of the total dataset is made when debugging = True\n",
    "if debugging == True:\n",
    "    print('Debugging is set to True: limiting the dataset to the first 100 movies')\n",
    "    filtered_netflix_df = netflix_df[netflix_df['itemId'] <= 100]\n",
    "else:\n",
    "    filtered_netflix_df = netflix_df\n",
    "print('Length of selected dataset: {0} \\n'.format(len(filtered_netflix_df)))"
   ]
  },
  {
   "attachments": {},
   "cell_type": "markdown",
   "metadata": {},
   "source": [
    "In order to filter the dataset based on activity and reduce the sparsity of the data, the data will be grouped and filtered based on movies and users. The datasets will show how many ratings each movie has gotten and how many rating each user has given."
   ]
  },
  {
   "attachments": {},
   "cell_type": "markdown",
   "metadata": {},
   "source": [
    "To reduce the sparcity of data in the dataset, we will filter out the users that have rated fewer than 5% of the total amount of movies."
   ]
  },
  {
   "attachments": {},
   "cell_type": "markdown",
   "metadata": {},
   "source": [
    "Finally, the movies that have been rated by fewer than 50 people will be filtered out of the dataset."
   ]
  },
  {
   "cell_type": "code",
   "execution_count": 70,
   "metadata": {},
   "outputs": [
    {
     "name": "stdout",
     "output_type": "stream",
     "text": [
      "Filtering out users that have rated less than 2.5 percent of all movies\n",
      "Length of filtered dataset: 155459 \n",
      "\n",
      "Filtering out movies that have been rated by fewer than 50 users\n",
      "Length of filtered dataset:  155459\n"
     ]
    }
   ],
   "source": [
    "# Making two dataframes: One grouping items to show how many ratings an item has gotten and one grouping users to show how many ratings an user has given\n",
    "filtered_movie_count = filtered_netflix_df[['itemId','userId']].groupby('itemId').count().reset_index().rename(columns={'userId':'user_count'})\n",
    "filtered_user_count = filtered_netflix_df[['itemId','userId']].groupby('userId').count().reset_index().rename(columns={'itemId':'item_count'})\n",
    "\n",
    "# Defining the minimal percentage of items that a user has to have rated to be included\n",
    "required_rated_percentage = 0.025\n",
    "print('Filtering out users that have rated less than {0} percent of all movies'.format((required_rated_percentage*100)))\n",
    "\n",
    "# Check if the userId exists when the total amount of items rated by a user (filtered_user_count['item_count']), divided by the total amount of movies (len(filtered_movie_count)' is bigger than the required_rated_percentage\n",
    "filtered_netflix_df = filtered_netflix_df[filtered_netflix_df['userId'].isin(filtered_user_count[filtered_user_count['item_count']/len(filtered_movie_count) > required_rated_percentage]['userId'])]\n",
    "print('Length of filtered dataset: {0} \\n'.format(len(filtered_netflix_df)))\n",
    "\n",
    "print('Filtering out movies that have been rated by fewer than {0} users'.format(50))\n",
    "filtered_netflix_df = filtered_netflix_df[filtered_netflix_df['itemId'].isin(filtered_movie_count[filtered_movie_count['user_count']>50]['itemId'])]\n",
    "print('Length of filtered dataset: ',len(filtered_netflix_df))"
   ]
  },
  {
   "attachments": {},
   "cell_type": "markdown",
   "metadata": {},
   "source": [
    "## 3.2 Jester Dataset"
   ]
  },
  {
   "attachments": {},
   "cell_type": "markdown",
   "metadata": {},
   "source": [
    "### 3.2.1 Import Source Data"
   ]
  },
  {
   "cell_type": "code",
   "execution_count": 71,
   "metadata": {},
   "outputs": [],
   "source": [
    "# Creating dataframes for the jester datasets\n",
    "jester_items = pd.read_csv(r'C:\\Users\\vbraun\\Downloads\\SDM-Datasets\\jester_items.csv')\n",
    "jester_ratings = pd.read_csv(r'C:\\Users\\vbraun\\Downloads\\SDM-Datasets\\jester_ratings.csv')\n",
    "\n",
    "# Rename jokeId to itemId to have one uniform format for the Netflix and Jester dataset\n",
    "jester_df = jester_ratings.rename(columns={'jokeId':'itemId'})\n",
    "\n",
    "# The ratings given in the jester dataset range from -10 to 10. Since calculations including average ratings of users could be influenced by this, the ratings will be increase with 10 to range from 0 - 20. \n",
    "jester_df['rating'] = jester_df['rating'] + 10"
   ]
  },
  {
   "attachments": {},
   "cell_type": "markdown",
   "metadata": {},
   "source": [
    "### 3.2.2 Data filtering"
   ]
  },
  {
   "cell_type": "code",
   "execution_count": 72,
   "metadata": {},
   "outputs": [
    {
     "name": "stdout",
     "output_type": "stream",
     "text": [
      "Debugging is set to True: limiting the dataset to the first 50 jokes\n",
      "Length of selected dataset: 715403 \n",
      "\n"
     ]
    }
   ],
   "source": [
    "# In order to achieve faster execution time of the while developing a selection of the total dataset is made when debugging = True\n",
    "if debugging == True:\n",
    "    print('Debugging is set to True: limiting the dataset to the first 50 jokes')\n",
    "    filtered_jester_df = jester_df[jester_df['itemId'] <= 50]\n",
    "else:\n",
    "    filtered_jester_df = jester_df\n",
    "print('Length of selected dataset: {0} \\n'.format(len(filtered_jester_df)))"
   ]
  },
  {
   "cell_type": "code",
   "execution_count": 73,
   "metadata": {},
   "outputs": [
    {
     "name": "stdout",
     "output_type": "stream",
     "text": [
      "Filtering out users that have rated less than 5 percent of all jokes\n",
      "Length of filtered dataset: 711239 \n",
      "\n",
      "Filtering out jokes that have been rated by fewer than 20 users\n",
      "Length of filtered dataset: 711239\n"
     ]
    }
   ],
   "source": [
    "# Making two dataframes: One grouping items to show how many ratings an item has gotten and one grouping users to show how many ratings an user has given\n",
    "jester_item_count = filtered_jester_df[['itemId','userId']].groupby('itemId').count().reset_index().rename(columns={'userId':'user_count'})\n",
    "jester_user_count = filtered_jester_df[['itemId','userId']].groupby('userId').count().reset_index().rename(columns={'itemId':'item_count'})\n",
    "\n",
    "# Defining the minimal percentage of items that a user has to have rated to be included\n",
    "required_rated_percentage = 0.05\n",
    "print('Filtering out users that have rated less than {0} percent of all jokes'.format(int(required_rated_percentage*100)))\n",
    "\n",
    "# Check if the userId exists when the total amount of items rated by a user (jester_user_count['item_count']), divided by the total amount of movies (len(jester_item_count)' is bigger than the required_rated_percentage\n",
    "filtered_jester_df = filtered_jester_df[filtered_jester_df['userId'].isin(jester_user_count[jester_user_count['item_count']/len(jester_item_count) > required_rated_percentage]['userId'])]\n",
    "print('Length of filtered dataset: {0} \\n'.format(len(filtered_jester_df)))\n",
    "\n",
    "print('Filtering out jokes that have been rated by fewer than {0} users'.format(20))\n",
    "filtered_jester_df = filtered_jester_df[filtered_jester_df['itemId'].isin(jester_item_count[jester_item_count['user_count']>20]['itemId'])]\n",
    "print('Length of filtered dataset:',len(filtered_jester_df))"
   ]
  },
  {
   "attachments": {},
   "cell_type": "markdown",
   "metadata": {},
   "source": [
    "# 4 Exploratory Data Analysis (EDA)"
   ]
  },
  {
   "attachments": {},
   "cell_type": "markdown",
   "metadata": {},
   "source": [
    "This chapter will try to answer the following sub question: 'How do the netflix and jester dataset compare?'"
   ]
  },
  {
   "attachments": {},
   "cell_type": "markdown",
   "metadata": {},
   "source": [
    "## 4.1 EDA Netflix Dataset"
   ]
  },
  {
   "cell_type": "code",
   "execution_count": 74,
   "metadata": {},
   "outputs": [
    {
     "name": "stdout",
     "output_type": "stream",
     "text": [
      "The filtered netflix dataset has 36925 unique users\n",
      "The filtered netflix dataset has 100 unique movies\n",
      "The filtered netflix dataset has 5 unique ratings\n",
      "The unique ratings are [1, 2, 3, 4, 5]\n"
     ]
    }
   ],
   "source": [
    "print('The filtered netflix dataset has', filtered_netflix_df['userId'].nunique(), 'unique users')\n",
    "print('The filtered netflix dataset has', filtered_netflix_df['itemId'].nunique(), 'unique movies')\n",
    "print('The filtered netflix dataset has', filtered_netflix_df['rating'].nunique(), 'unique ratings')\n",
    "print('The unique ratings are', sorted(filtered_netflix_df['rating'].unique()))"
   ]
  },
  {
   "cell_type": "code",
   "execution_count": 75,
   "metadata": {},
   "outputs": [
    {
     "name": "stdout",
     "output_type": "stream",
     "text": [
      "Amount of NaN values in the netflix dataset: 0\n"
     ]
    }
   ],
   "source": [
    "print('Amount of NaN values in the netflix dataset:',filtered_netflix_df.loc[lambda x: x.isnull().any(axis=1)].shape[0])"
   ]
  },
  {
   "attachments": {},
   "cell_type": "markdown",
   "metadata": {},
   "source": [
    "No NaN values were found in the dataset."
   ]
  },
  {
   "cell_type": "code",
   "execution_count": 76,
   "metadata": {},
   "outputs": [
    {
     "data": {
      "text/html": [
       "<div>\n",
       "<style scoped>\n",
       "    .dataframe tbody tr th:only-of-type {\n",
       "        vertical-align: middle;\n",
       "    }\n",
       "\n",
       "    .dataframe tbody tr th {\n",
       "        vertical-align: top;\n",
       "    }\n",
       "\n",
       "    .dataframe thead th {\n",
       "        text-align: right;\n",
       "    }\n",
       "</style>\n",
       "<table border=\"1\" class=\"dataframe\">\n",
       "  <thead>\n",
       "    <tr style=\"text-align: right;\">\n",
       "      <th></th>\n",
       "      <th>userId</th>\n",
       "      <th>rating</th>\n",
       "      <th>itemId</th>\n",
       "    </tr>\n",
       "  </thead>\n",
       "  <tbody>\n",
       "    <tr>\n",
       "      <th>0</th>\n",
       "      <td>1488844</td>\n",
       "      <td>3</td>\n",
       "      <td>1</td>\n",
       "    </tr>\n",
       "    <tr>\n",
       "      <th>3</th>\n",
       "      <td>30878</td>\n",
       "      <td>4</td>\n",
       "      <td>1</td>\n",
       "    </tr>\n",
       "    <tr>\n",
       "      <th>4</th>\n",
       "      <td>823519</td>\n",
       "      <td>3</td>\n",
       "      <td>1</td>\n",
       "    </tr>\n",
       "    <tr>\n",
       "      <th>5</th>\n",
       "      <td>893988</td>\n",
       "      <td>3</td>\n",
       "      <td>1</td>\n",
       "    </tr>\n",
       "    <tr>\n",
       "      <th>7</th>\n",
       "      <td>1248029</td>\n",
       "      <td>3</td>\n",
       "      <td>1</td>\n",
       "    </tr>\n",
       "  </tbody>\n",
       "</table>\n",
       "</div>"
      ],
      "text/plain": [
       "    userId  rating  itemId\n",
       "0  1488844       3       1\n",
       "3    30878       4       1\n",
       "4   823519       3       1\n",
       "5   893988       3       1\n",
       "7  1248029       3       1"
      ]
     },
     "metadata": {},
     "output_type": "display_data"
    },
    {
     "data": {
      "text/html": [
       "<div>\n",
       "<style scoped>\n",
       "    .dataframe tbody tr th:only-of-type {\n",
       "        vertical-align: middle;\n",
       "    }\n",
       "\n",
       "    .dataframe tbody tr th {\n",
       "        vertical-align: top;\n",
       "    }\n",
       "\n",
       "    .dataframe thead th {\n",
       "        text-align: right;\n",
       "    }\n",
       "</style>\n",
       "<table border=\"1\" class=\"dataframe\">\n",
       "  <thead>\n",
       "    <tr style=\"text-align: right;\">\n",
       "      <th></th>\n",
       "      <th>userId</th>\n",
       "      <th>rating</th>\n",
       "      <th>itemId</th>\n",
       "    </tr>\n",
       "  </thead>\n",
       "  <tbody>\n",
       "    <tr>\n",
       "      <th>72</th>\n",
       "      <td>2448875</td>\n",
       "      <td>3</td>\n",
       "      <td>100</td>\n",
       "    </tr>\n",
       "    <tr>\n",
       "      <th>73</th>\n",
       "      <td>2192562</td>\n",
       "      <td>1</td>\n",
       "      <td>100</td>\n",
       "    </tr>\n",
       "    <tr>\n",
       "      <th>74</th>\n",
       "      <td>443447</td>\n",
       "      <td>4</td>\n",
       "      <td>100</td>\n",
       "    </tr>\n",
       "    <tr>\n",
       "      <th>76</th>\n",
       "      <td>428688</td>\n",
       "      <td>2</td>\n",
       "      <td>100</td>\n",
       "    </tr>\n",
       "    <tr>\n",
       "      <th>77</th>\n",
       "      <td>2634967</td>\n",
       "      <td>1</td>\n",
       "      <td>100</td>\n",
       "    </tr>\n",
       "  </tbody>\n",
       "</table>\n",
       "</div>"
      ],
      "text/plain": [
       "     userId  rating  itemId\n",
       "72  2448875       3     100\n",
       "73  2192562       1     100\n",
       "74   443447       4     100\n",
       "76   428688       2     100\n",
       "77  2634967       1     100"
      ]
     },
     "metadata": {},
     "output_type": "display_data"
    }
   ],
   "source": [
    "display(filtered_netflix_df.head(),filtered_netflix_df.tail())"
   ]
  },
  {
   "cell_type": "code",
   "execution_count": 77,
   "metadata": {},
   "outputs": [
    {
     "data": {
      "text/html": [
       "<div>\n",
       "<style scoped>\n",
       "    .dataframe tbody tr th:only-of-type {\n",
       "        vertical-align: middle;\n",
       "    }\n",
       "\n",
       "    .dataframe tbody tr th {\n",
       "        vertical-align: top;\n",
       "    }\n",
       "\n",
       "    .dataframe thead th {\n",
       "        text-align: right;\n",
       "    }\n",
       "</style>\n",
       "<table border=\"1\" class=\"dataframe\">\n",
       "  <thead>\n",
       "    <tr style=\"text-align: right;\">\n",
       "      <th></th>\n",
       "      <th>userId</th>\n",
       "      <th>rating</th>\n",
       "      <th>itemId</th>\n",
       "    </tr>\n",
       "  </thead>\n",
       "  <tbody>\n",
       "    <tr>\n",
       "      <th>count</th>\n",
       "      <td>1.554590e+05</td>\n",
       "      <td>155459.000000</td>\n",
       "      <td>155459.000000</td>\n",
       "    </tr>\n",
       "    <tr>\n",
       "      <th>mean</th>\n",
       "      <td>1.327268e+06</td>\n",
       "      <td>3.494272</td>\n",
       "      <td>46.444754</td>\n",
       "    </tr>\n",
       "    <tr>\n",
       "      <th>std</th>\n",
       "      <td>7.606477e+05</td>\n",
       "      <td>1.089238</td>\n",
       "      <td>25.195278</td>\n",
       "    </tr>\n",
       "    <tr>\n",
       "      <th>min</th>\n",
       "      <td>7.000000e+00</td>\n",
       "      <td>1.000000</td>\n",
       "      <td>1.000000</td>\n",
       "    </tr>\n",
       "    <tr>\n",
       "      <th>25%</th>\n",
       "      <td>6.710200e+05</td>\n",
       "      <td>3.000000</td>\n",
       "      <td>28.000000</td>\n",
       "    </tr>\n",
       "    <tr>\n",
       "      <th>50%</th>\n",
       "      <td>1.324815e+06</td>\n",
       "      <td>4.000000</td>\n",
       "      <td>39.000000</td>\n",
       "    </tr>\n",
       "    <tr>\n",
       "      <th>75%</th>\n",
       "      <td>1.984101e+06</td>\n",
       "      <td>4.000000</td>\n",
       "      <td>73.000000</td>\n",
       "    </tr>\n",
       "    <tr>\n",
       "      <th>max</th>\n",
       "      <td>2.649426e+06</td>\n",
       "      <td>5.000000</td>\n",
       "      <td>100.000000</td>\n",
       "    </tr>\n",
       "  </tbody>\n",
       "</table>\n",
       "</div>"
      ],
      "text/plain": [
       "             userId         rating         itemId\n",
       "count  1.554590e+05  155459.000000  155459.000000\n",
       "mean   1.327268e+06       3.494272      46.444754\n",
       "std    7.606477e+05       1.089238      25.195278\n",
       "min    7.000000e+00       1.000000       1.000000\n",
       "25%    6.710200e+05       3.000000      28.000000\n",
       "50%    1.324815e+06       4.000000      39.000000\n",
       "75%    1.984101e+06       4.000000      73.000000\n",
       "max    2.649426e+06       5.000000     100.000000"
      ]
     },
     "execution_count": 77,
     "metadata": {},
     "output_type": "execute_result"
    }
   ],
   "source": [
    "filtered_netflix_df.describe()"
   ]
  },
  {
   "attachments": {},
   "cell_type": "markdown",
   "metadata": {},
   "source": [
    "The mean rating for all movies in the netflix dataset is quite high with a score of 3.53 on a scale of 1-5. Moreover, the standard deviation of 1.07 further exemplifies that users in the netflix dataset generally like the movies they watch as it suggests most given ratings ranging between 2.46 and 4.60. \n",
    "<br>\n",
    "<br>\n",
    "The following graph illustrates for each movie (represented as a dot) what the mean rating is that is has received in contrast to the total amount of ratings that were given. "
   ]
  },
  {
   "cell_type": "code",
   "execution_count": 78,
   "metadata": {},
   "outputs": [
    {
     "data": {
      "image/png": "[encoded data removed]",
      "text/plain": [
       "<Figure size 600x600 with 3 Axes>"
      ]
     },
     "metadata": {},
     "output_type": "display_data"
    }
   ],
   "source": [
    "plt = sns.jointplot(x='rating_mean', y='rating_amount', data=filtered_netflix_df.groupby('itemId').agg(rating_mean = ('rating', 'mean'), rating_amount = ('rating', 'count')).reset_index())\n",
    "plt.fig.suptitle(\"Rating Mean and Rating Amount of Movies\")\n",
    "plt.fig.subplots_adjust(top=0.95)"
   ]
  },
  {
   "attachments": {},
   "cell_type": "markdown",
   "metadata": {},
   "source": [
    "Notably, the mean rating of all movies approach a normal distribution. Whereas, there are many movies that have a low amount of ratings.\n",
    "<br>\n",
    "<br>\n",
    "The following graph illustrates the mean rating a user has given compared to the amount of ratings that user has given.  "
   ]
  },
  {
   "cell_type": "code",
   "execution_count": 79,
   "metadata": {},
   "outputs": [
    {
     "data": {
      "image/png": "[encoded data removed]",
      "text/plain": [
       "<Figure size 600x600 with 3 Axes>"
      ]
     },
     "metadata": {},
     "output_type": "display_data"
    }
   ],
   "source": [
    "plt = sns.jointplot(x='rating_mean', y='rating_amount', data=filtered_netflix_df.groupby('userId').agg(rating_mean = ('rating', 'mean'), rating_amount = ('rating', 'count')).reset_index())\n",
    "plt.fig.suptitle(\"Rating Mean and Rating Amount of Users\")\n",
    "plt.fig.subplots_adjust(top=0.95)"
   ]
  },
  {
   "attachments": {},
   "cell_type": "markdown",
   "metadata": {},
   "source": [
    "The graph for users show that there are several outliers of users that have rated many movies while having a low mean of their ratings. However, the barchart of the mean rating of users still looks like it approaches a normal distribution. "
   ]
  },
  {
   "attachments": {},
   "cell_type": "markdown",
   "metadata": {},
   "source": [
    "## 4.2 EDA Jester Dataset"
   ]
  },
  {
   "cell_type": "code",
   "execution_count": 80,
   "metadata": {},
   "outputs": [
    {
     "name": "stdout",
     "output_type": "stream",
     "text": [
      "The filtered jester dataset has 56350 unique users\n",
      "The filtered jester dataset has 40 unique jokes\n",
      "The filtered jester dataset has 641 unique ratings\n",
      "The unique ratings are [0.0, 0.031000000000000583, 0.06199999999999939, 0.09399999999999942, 0.125, 0.15600000000000058, 0.1880000000000006, 0.21899999999999942, 0.25, 0.2810000000000006, 0.3119999999999994, 0.3439999999999994, 0.375, 0.4060000000000006, 0.4380000000000006, 0.4689999999999994, 0.5, 0.5310000000000006, 0.5619999999999994, 0.5939999999999994, 0.625, 0.6560000000000006, 0.6880000000000006, 0.7189999999999994, 0.75, 0.7810000000000006, 0.8119999999999994, 0.8439999999999994, 0.875, 0.9060000000000006, 0.9380000000000006, 0.9689999999999994, 1.0, 1.0310000000000006, 1.0620000000000012, 1.0939999999999994, 1.125, 1.1560000000000006, 1.1879999999999988, 1.2189999999999994, 1.25, 1.2810000000000006, 1.3120000000000012, 1.3439999999999994, 1.375, 1.4060000000000006, 1.4379999999999988, 1.4689999999999994, 1.5, 1.5310000000000006, 1.5620000000000012, 1.5939999999999994, 1.625, 1.6560000000000006, 1.6879999999999988, 1.7189999999999994, 1.75, 1.7810000000000006, 1.8120000000000012, 1.8439999999999994, 1.875, 1.9060000000000006, 1.9379999999999988, 1.9689999999999994, 2.0, 2.0310000000000006, 2.0620000000000003, 2.0939999999999994, 2.125, 2.1560000000000006, 2.1879999999999997, 2.2189999999999994, 2.25, 2.2810000000000006, 2.3120000000000003, 2.3439999999999994, 2.375, 2.4060000000000006, 2.4379999999999997, 2.4689999999999994, 2.5, 2.5310000000000006, 2.5620000000000003, 2.5939999999999994, 2.625, 2.6560000000000006, 2.6879999999999997, 2.7189999999999994, 2.75, 2.7810000000000006, 2.8120000000000003, 2.8439999999999994, 2.875, 2.9060000000000006, 2.9379999999999997, 2.9689999999999994, 3.0, 3.0310000000000006, 3.0620000000000003, 3.0939999999999994, 3.125, 3.1560000000000006, 3.1879999999999997, 3.2189999999999994, 3.25, 3.2810000000000006, 3.3120000000000003, 3.3439999999999994, 3.375, 3.4060000000000006, 3.4379999999999997, 3.4689999999999994, 3.5, 3.5310000000000006, 3.5620000000000003, 3.5939999999999994, 3.625, 3.6560000000000006, 3.6879999999999997, 3.7189999999999994, 3.75, 3.7810000000000006, 3.8120000000000003, 3.8439999999999994, 3.875, 3.9060000000000006, 3.9379999999999997, 3.9689999999999994, 4.0, 4.031000000000001, 4.062, 4.093999999999999, 4.125, 4.156000000000001, 4.188, 4.218999999999999, 4.25, 4.281000000000001, 4.312, 4.343999999999999, 4.375, 4.406000000000001, 4.438, 4.468999999999999, 4.5, 4.531000000000001, 4.562, 4.593999999999999, 4.625, 4.656000000000001, 4.688, 4.718999999999999, 4.75, 4.781000000000001, 4.812, 4.843999999999999, 4.875, 4.906000000000001, 4.938, 4.968999999999999, 5.0, 5.031000000000001, 5.062, 5.093999999999999, 5.125, 5.156000000000001, 5.188, 5.218999999999999, 5.25, 5.281000000000001, 5.312, 5.343999999999999, 5.375, 5.406000000000001, 5.438, 5.468999999999999, 5.5, 5.531000000000001, 5.562, 5.593999999999999, 5.625, 5.656000000000001, 5.688, 5.718999999999999, 5.75, 5.781000000000001, 5.812, 5.843999999999999, 5.875, 5.906000000000001, 5.938, 5.968999999999999, 6.0, 6.031000000000001, 6.061999999999999, 6.093999999999999, 6.125, 6.156000000000001, 6.188000000000001, 6.218999999999999, 6.25, 6.281000000000001, 6.311999999999999, 6.343999999999999, 6.375, 6.406000000000001, 6.438000000000001, 6.468999999999999, 6.5, 6.531000000000001, 6.561999999999999, 6.593999999999999, 6.625, 6.656000000000001, 6.688000000000001, 6.718999999999999, 6.75, 6.781000000000001, 6.811999999999999, 6.843999999999999, 6.875, 6.906000000000001, 6.938000000000001, 6.968999999999999, 7.0, 7.031000000000001, 7.061999999999999, 7.093999999999999, 7.125, 7.156000000000001, 7.188000000000001, 7.218999999999999, 7.25, 7.281000000000001, 7.311999999999999, 7.343999999999999, 7.375, 7.406000000000001, 7.438000000000001, 7.468999999999999, 7.5, 7.531000000000001, 7.561999999999999, 7.593999999999999, 7.625, 7.656000000000001, 7.688000000000001, 7.718999999999999, 7.75, 7.781000000000001, 7.811999999999999, 7.843999999999999, 7.875, 7.906000000000001, 7.938000000000001, 7.968999999999999, 8.0, 8.031, 8.062, 8.094, 8.125, 8.156, 8.188, 8.219, 8.25, 8.281, 8.312, 8.344, 8.375, 8.406, 8.438, 8.469, 8.5, 8.531, 8.562, 8.594, 8.625, 8.656, 8.688, 8.719, 8.75, 8.781, 8.812, 8.844, 8.875, 8.906, 8.938, 8.969, 9.0, 9.031, 9.062, 9.094, 9.125, 9.156, 9.188, 9.219, 9.25, 9.281, 9.312, 9.344, 9.375, 9.406, 9.438, 9.469, 9.5, 9.531, 9.562, 9.594, 9.625, 9.656, 9.688, 9.719, 9.75, 9.781, 9.812, 9.844, 9.875, 9.906, 9.938, 9.969, 10.0, 10.031, 10.062, 10.094, 10.125, 10.156, 10.188, 10.219, 10.25, 10.281, 10.312, 10.344, 10.375, 10.406, 10.438, 10.469, 10.5, 10.531, 10.562, 10.594, 10.625, 10.656, 10.688, 10.719, 10.75, 10.781, 10.812, 10.844, 10.875, 10.906, 10.938, 10.969, 11.0, 11.031, 11.062, 11.094, 11.125, 11.156, 11.188, 11.219, 11.25, 11.281, 11.312, 11.344, 11.375, 11.406, 11.438, 11.469, 11.5, 11.531, 11.562, 11.594, 11.625, 11.656, 11.688, 11.719, 11.75, 11.781, 11.812, 11.844, 11.875, 11.906, 11.938, 11.969, 12.0, 12.031, 12.062, 12.094, 12.125, 12.156, 12.188, 12.219, 12.25, 12.281, 12.312, 12.344, 12.375, 12.406, 12.438, 12.469, 12.5, 12.531, 12.562, 12.594, 12.625, 12.656, 12.688, 12.719, 12.75, 12.781, 12.812, 12.844, 12.875, 12.906, 12.938, 12.969, 13.0, 13.031, 13.062, 13.094, 13.125, 13.156, 13.188, 13.219, 13.25, 13.281, 13.312, 13.344, 13.375, 13.406, 13.438, 13.469, 13.5, 13.531, 13.562, 13.594, 13.625, 13.656, 13.688, 13.719, 13.75, 13.781, 13.812, 13.844, 13.875, 13.906, 13.938, 13.969, 14.0, 14.031, 14.062000000000001, 14.094, 14.125, 14.156, 14.187999999999999, 14.219, 14.25, 14.281, 14.312000000000001, 14.344, 14.375, 14.406, 14.437999999999999, 14.469, 14.5, 14.531, 14.562000000000001, 14.594, 14.625, 14.656, 14.687999999999999, 14.719, 14.75, 14.781, 14.812000000000001, 14.844, 14.875, 14.906, 14.937999999999999, 14.969, 15.0, 15.031, 15.062000000000001, 15.094, 15.125, 15.156, 15.187999999999999, 15.219, 15.25, 15.281, 15.312000000000001, 15.344, 15.375, 15.406, 15.437999999999999, 15.469, 15.5, 15.531, 15.562000000000001, 15.594, 15.625, 15.656, 15.687999999999999, 15.719, 15.75, 15.781, 15.812000000000001, 15.844, 15.875, 15.906, 15.937999999999999, 15.969, 16.0, 16.031, 16.062, 16.094, 16.125, 16.156, 16.188, 16.219, 16.25, 16.281, 16.312, 16.344, 16.375, 16.406, 16.438, 16.469, 16.5, 16.531, 16.562, 16.594, 16.625, 16.656, 16.688, 16.719, 16.75, 16.781, 16.812, 16.844, 16.875, 16.906, 16.938, 16.969, 17.0, 17.031, 17.062, 17.094, 17.125, 17.156, 17.188, 17.219, 17.25, 17.281, 17.312, 17.344, 17.375, 17.406, 17.438, 17.469, 17.5, 17.531, 17.562, 17.594, 17.625, 17.656, 17.688, 17.719, 17.75, 17.781, 17.812, 17.844, 17.875, 17.906, 17.938, 17.969, 18.0, 18.031, 18.062, 18.094, 18.125, 18.156, 18.188, 18.219, 18.25, 18.281, 18.312, 18.344, 18.375, 18.406, 18.438, 18.469, 18.5, 18.531, 18.562, 18.594, 18.625, 18.656, 18.688, 18.719, 18.75, 18.781, 18.812, 18.844, 18.875, 18.906, 18.938, 18.969, 19.0, 19.031, 19.061999999999998, 19.094, 19.125, 19.156, 19.188000000000002, 19.219, 19.25, 19.281, 19.311999999999998, 19.344, 19.375, 19.406, 19.438000000000002, 19.469, 19.5, 19.531, 19.561999999999998, 19.594, 19.625, 19.656, 19.688000000000002, 19.719, 19.75, 19.781, 19.811999999999998, 19.844, 19.875, 19.906, 19.938000000000002, 19.969, 20.0]\n"
     ]
    }
   ],
   "source": [
    "print('The filtered jester dataset has', filtered_jester_df['userId'].nunique(), 'unique users')\n",
    "print('The filtered jester dataset has', filtered_jester_df['itemId'].nunique(), 'unique jokes')\n",
    "print('The filtered jester dataset has', filtered_jester_df['rating'].nunique(), 'unique ratings')\n",
    "print('The unique ratings are', sorted(filtered_jester_df['rating'].unique()))"
   ]
  },
  {
   "attachments": {},
   "cell_type": "markdown",
   "metadata": {},
   "source": [
    "As is shown above, the ratings in the Jester contain 641 unique values that are in the form of floats instead of integer like the netflix dataset."
   ]
  },
  {
   "cell_type": "code",
   "execution_count": 81,
   "metadata": {},
   "outputs": [
    {
     "data": {
      "text/html": [
       "<div>\n",
       "<style scoped>\n",
       "    .dataframe tbody tr th:only-of-type {\n",
       "        vertical-align: middle;\n",
       "    }\n",
       "\n",
       "    .dataframe tbody tr th {\n",
       "        vertical-align: top;\n",
       "    }\n",
       "\n",
       "    .dataframe thead th {\n",
       "        text-align: right;\n",
       "    }\n",
       "</style>\n",
       "<table border=\"1\" class=\"dataframe\">\n",
       "  <thead>\n",
       "    <tr style=\"text-align: right;\">\n",
       "      <th></th>\n",
       "      <th>userId</th>\n",
       "      <th>itemId</th>\n",
       "      <th>rating</th>\n",
       "    </tr>\n",
       "  </thead>\n",
       "  <tbody>\n",
       "    <tr>\n",
       "      <th>0</th>\n",
       "      <td>1</td>\n",
       "      <td>5</td>\n",
       "      <td>10.219</td>\n",
       "    </tr>\n",
       "    <tr>\n",
       "      <th>1</th>\n",
       "      <td>1</td>\n",
       "      <td>7</td>\n",
       "      <td>0.719</td>\n",
       "    </tr>\n",
       "    <tr>\n",
       "      <th>2</th>\n",
       "      <td>1</td>\n",
       "      <td>8</td>\n",
       "      <td>0.719</td>\n",
       "    </tr>\n",
       "    <tr>\n",
       "      <th>3</th>\n",
       "      <td>1</td>\n",
       "      <td>13</td>\n",
       "      <td>3.219</td>\n",
       "    </tr>\n",
       "    <tr>\n",
       "      <th>4</th>\n",
       "      <td>1</td>\n",
       "      <td>15</td>\n",
       "      <td>10.875</td>\n",
       "    </tr>\n",
       "  </tbody>\n",
       "</table>\n",
       "</div>"
      ],
      "text/plain": [
       "   userId  itemId  rating\n",
       "0       1       5  10.219\n",
       "1       1       7   0.719\n",
       "2       1       8   0.719\n",
       "3       1      13   3.219\n",
       "4       1      15  10.875"
      ]
     },
     "metadata": {},
     "output_type": "display_data"
    },
    {
     "data": {
      "text/html": [
       "<div>\n",
       "<style scoped>\n",
       "    .dataframe tbody tr th:only-of-type {\n",
       "        vertical-align: middle;\n",
       "    }\n",
       "\n",
       "    .dataframe tbody tr th {\n",
       "        vertical-align: top;\n",
       "    }\n",
       "\n",
       "    .dataframe thead th {\n",
       "        text-align: right;\n",
       "    }\n",
       "</style>\n",
       "<table border=\"1\" class=\"dataframe\">\n",
       "  <thead>\n",
       "    <tr style=\"text-align: right;\">\n",
       "      <th></th>\n",
       "      <th>userId</th>\n",
       "      <th>itemId</th>\n",
       "      <th>rating</th>\n",
       "    </tr>\n",
       "  </thead>\n",
       "  <tbody>\n",
       "    <tr>\n",
       "      <th>1761424</th>\n",
       "      <td>63978</td>\n",
       "      <td>45</td>\n",
       "      <td>3.406</td>\n",
       "    </tr>\n",
       "    <tr>\n",
       "      <th>1761428</th>\n",
       "      <td>63978</td>\n",
       "      <td>40</td>\n",
       "      <td>18.375</td>\n",
       "    </tr>\n",
       "    <tr>\n",
       "      <th>1761430</th>\n",
       "      <td>63978</td>\n",
       "      <td>33</td>\n",
       "      <td>2.531</td>\n",
       "    </tr>\n",
       "    <tr>\n",
       "      <th>1761435</th>\n",
       "      <td>63978</td>\n",
       "      <td>24</td>\n",
       "      <td>0.938</td>\n",
       "    </tr>\n",
       "    <tr>\n",
       "      <th>1761438</th>\n",
       "      <td>63978</td>\n",
       "      <td>44</td>\n",
       "      <td>1.562</td>\n",
       "    </tr>\n",
       "  </tbody>\n",
       "</table>\n",
       "</div>"
      ],
      "text/plain": [
       "         userId  itemId  rating\n",
       "1761424   63978      45   3.406\n",
       "1761428   63978      40  18.375\n",
       "1761430   63978      33   2.531\n",
       "1761435   63978      24   0.938\n",
       "1761438   63978      44   1.562"
      ]
     },
     "metadata": {},
     "output_type": "display_data"
    }
   ],
   "source": [
    "display(filtered_jester_df.head(),filtered_jester_df.tail())"
   ]
  },
  {
   "cell_type": "code",
   "execution_count": 82,
   "metadata": {},
   "outputs": [
    {
     "name": "stdout",
     "output_type": "stream",
     "text": [
      "Amount of NaN values in the jester dataset: 0\n"
     ]
    }
   ],
   "source": [
    "print('Amount of NaN values in the jester dataset:',filtered_jester_df.loc[lambda x: x.isnull().any(axis=1)].shape[0])"
   ]
  },
  {
   "attachments": {},
   "cell_type": "markdown",
   "metadata": {},
   "source": [
    "No NaN values were found in the Jester dataset."
   ]
  },
  {
   "cell_type": "code",
   "execution_count": 83,
   "metadata": {},
   "outputs": [
    {
     "data": {
      "text/html": [
       "<div>\n",
       "<style scoped>\n",
       "    .dataframe tbody tr th:only-of-type {\n",
       "        vertical-align: middle;\n",
       "    }\n",
       "\n",
       "    .dataframe tbody tr th {\n",
       "        vertical-align: top;\n",
       "    }\n",
       "\n",
       "    .dataframe thead th {\n",
       "        text-align: right;\n",
       "    }\n",
       "</style>\n",
       "<table border=\"1\" class=\"dataframe\">\n",
       "  <thead>\n",
       "    <tr style=\"text-align: right;\">\n",
       "      <th></th>\n",
       "      <th>userId</th>\n",
       "      <th>itemId</th>\n",
       "      <th>rating</th>\n",
       "    </tr>\n",
       "  </thead>\n",
       "  <tbody>\n",
       "    <tr>\n",
       "      <th>count</th>\n",
       "      <td>711239.000000</td>\n",
       "      <td>711239.000000</td>\n",
       "      <td>711239.000000</td>\n",
       "    </tr>\n",
       "    <tr>\n",
       "      <th>mean</th>\n",
       "      <td>32352.609550</td>\n",
       "      <td>22.698596</td>\n",
       "      <td>10.476171</td>\n",
       "    </tr>\n",
       "    <tr>\n",
       "      <th>std</th>\n",
       "      <td>18300.087897</td>\n",
       "      <td>12.678995</td>\n",
       "      <td>5.495977</td>\n",
       "    </tr>\n",
       "    <tr>\n",
       "      <th>min</th>\n",
       "      <td>1.000000</td>\n",
       "      <td>5.000000</td>\n",
       "      <td>0.000000</td>\n",
       "    </tr>\n",
       "    <tr>\n",
       "      <th>25%</th>\n",
       "      <td>16951.000000</td>\n",
       "      <td>15.000000</td>\n",
       "      <td>6.062000</td>\n",
       "    </tr>\n",
       "    <tr>\n",
       "      <th>50%</th>\n",
       "      <td>33724.000000</td>\n",
       "      <td>18.000000</td>\n",
       "      <td>11.062000</td>\n",
       "    </tr>\n",
       "    <tr>\n",
       "      <th>75%</th>\n",
       "      <td>47278.000000</td>\n",
       "      <td>32.000000</td>\n",
       "      <td>14.656000</td>\n",
       "    </tr>\n",
       "    <tr>\n",
       "      <th>max</th>\n",
       "      <td>63978.000000</td>\n",
       "      <td>50.000000</td>\n",
       "      <td>20.000000</td>\n",
       "    </tr>\n",
       "  </tbody>\n",
       "</table>\n",
       "</div>"
      ],
      "text/plain": [
       "              userId         itemId         rating\n",
       "count  711239.000000  711239.000000  711239.000000\n",
       "mean    32352.609550      22.698596      10.476171\n",
       "std     18300.087897      12.678995       5.495977\n",
       "min         1.000000       5.000000       0.000000\n",
       "25%     16951.000000      15.000000       6.062000\n",
       "50%     33724.000000      18.000000      11.062000\n",
       "75%     47278.000000      32.000000      14.656000\n",
       "max     63978.000000      50.000000      20.000000"
      ]
     },
     "execution_count": 83,
     "metadata": {},
     "output_type": "execute_result"
    }
   ],
   "source": [
    "filtered_jester_df.describe()"
   ]
  },
  {
   "attachments": {},
   "cell_type": "markdown",
   "metadata": {},
   "source": [
    "The mean rating for all jokes in the jester dataset is low in comparison with the netflix dataset as 11.17 on a scale of 0 - 20 is near the middle. It can therefore be important to provide better recommendations in order to show users jokes they like more.  "
   ]
  },
  {
   "cell_type": "code",
   "execution_count": 84,
   "metadata": {},
   "outputs": [
    {
     "data": {
      "image/png": "[encoded data removed]",
      "text/plain": [
       "<Figure size 600x600 with 3 Axes>"
      ]
     },
     "metadata": {},
     "output_type": "display_data"
    }
   ],
   "source": [
    "plt = sns.jointplot(x='rating_mean', y='rating_amount', data=filtered_jester_df.groupby('itemId').agg(rating_mean = ('rating', 'mean'), rating_amount = ('rating', 'count')).reset_index())\n",
    "plt.fig.suptitle(\"Rating Mean and Rating Amount of Jokes\")\n",
    "plt.fig.subplots_adjust(top=0.95)"
   ]
  },
  {
   "attachments": {},
   "cell_type": "markdown",
   "metadata": {},
   "source": [
    "As illustrated above, the mean rating for each joke is not distributed evenly as there are a few jokes that got many ratings with a relatively low rating.  "
   ]
  },
  {
   "cell_type": "code",
   "execution_count": 85,
   "metadata": {},
   "outputs": [
    {
     "data": {
      "image/png": "[encoded data removed]",
      "text/plain": [
       "<Figure size 600x600 with 3 Axes>"
      ]
     },
     "metadata": {},
     "output_type": "display_data"
    }
   ],
   "source": [
    "plt = sns.jointplot(x='rating_mean', y='rating_amount', data=filtered_jester_df.groupby('userId').agg(rating_mean = ('rating', 'mean'), rating_amount = ('rating', 'count')).reset_index())\n",
    "plt.fig.suptitle(\"Rating Mean and Rating Amount of Users\")\n",
    "plt.fig.subplots_adjust(top=0.95)"
   ]
  },
  {
   "attachments": {},
   "cell_type": "markdown",
   "metadata": {},
   "source": [
    "The graph above shows that the ratings per user in the Jester are more evenly distributed along the axis compared to the users in the netflix dataset.    "
   ]
  },
  {
   "attachments": {},
   "cell_type": "markdown",
   "metadata": {},
   "source": [
    "In summary, the netflix and jester dataset are similar in format except for their rating scales and can be treated equally in the creation of RecSys. However, the users in the netflix dataset prove to give higher relative ratings compared to the users in the Jester dataset. Further research is required to understand the nature of these differences.  "
   ]
  },
  {
   "attachments": {},
   "cell_type": "markdown",
   "metadata": {},
   "source": [
    "# 5 Recommender Systems"
   ]
  },
  {
   "attachments": {},
   "cell_type": "markdown",
   "metadata": {},
   "source": [
    "This chapter will answer sub question 2 and 3 by building and explaining the KNN and SVD RecSys models based on CF. Both models will be evaluated using the same function that follows below. This function calculates the root mean squared error and the mean absolute error between actual values of y and the predicted value for that same y (without the RecSys model knowing what that y was)."
   ]
  },
  {
   "cell_type": "code",
   "execution_count": 86,
   "metadata": {},
   "outputs": [],
   "source": [
    "def evaluate_predictions(pred, truth):\n",
    "    # In order to only compare y's that were not 0, a selection is made from y and corresponding the y^ where y != 0 by using .nonzero() \n",
    "    pred = pred[truth.nonzero()].flatten()\n",
    "    truth = truth[truth.nonzero()].flatten()\n",
    "\n",
    "    # Standard RMSE and MAE calculations\n",
    "    rmse = np.sqrt(mean_squared_error(truth,pred))\n",
    "    mae = mean_absolute_error(truth,pred)\n",
    "    return rmse, mae"
   ]
  },
  {
   "attachments": {},
   "cell_type": "markdown",
   "metadata": {},
   "source": [
    "In order to evaluate the performance of the recommendations following SVD we only need the $\\hat{y}$ of existing $y$. Therefore, all other values will be filtered out of the prediction dataset by using pred[truth.nonzero()]. Afterwards we are able to evaluate the performance of our model by comparing $\\hat{y}$ with their corresponding $y$. "
   ]
  },
  {
   "attachments": {},
   "cell_type": "markdown",
   "metadata": {},
   "source": [
    "## 5.1 K Nearest Neighbors (KNN)"
   ]
  },
  {
   "attachments": {},
   "cell_type": "markdown",
   "metadata": {},
   "source": [
    "### 5.1.1 KNN Model"
   ]
  },
  {
   "attachments": {},
   "cell_type": "markdown",
   "metadata": {},
   "source": [
    "In order to train and test the KNN RecSys model the dataset will have to be split into train, validation and test data. This was created in a function to allow testing the performance of the model over many iterations. "
   ]
  },
  {
   "cell_type": "code",
   "execution_count": 87,
   "metadata": {},
   "outputs": [],
   "source": [
    "def train_test(filtered_df):\n",
    "    # Since the data is sparse the pivot_table is performed in the csr_matrix to reduce the required memory \n",
    "    sparse_matrix = csr_matrix(filtered_df.pivot_table(index='userId', columns='itemId', values='rating').fillna(0).values)\n",
    "    # print(sparse_matrix.check_format)\n",
    "\n",
    "    # To train and evaluate the KNN model the sparse matrix is split into 70% train, 15% validation and 15% test data\n",
    "    train_data, test_data = train_test_split(sparse_matrix, test_size=.30)\n",
    "    test_data, validation_data = train_test_split(test_data, test_size=.50)\n",
    "\n",
    "    return train_data, validation_data, test_data"
   ]
  },
  {
   "attachments": {},
   "cell_type": "markdown",
   "metadata": {},
   "source": [
    "K-Nearest Neighbors, is a commonly used algorithm in recommender systems for finding items that are similar to a given item or user. For KNN the similarity with other users is measured to find the closest neighbors. KNN works by identifying the k items that are most similar to a user's preferences or a given item based on some similarity metric. In our hyper parameter tuning several different metrics will be performed. Once these k items are identified, the system can then recommend these items to the user."
   ]
  },
  {
   "cell_type": "code",
   "execution_count": 88,
   "metadata": {},
   "outputs": [],
   "source": [
    "def calculate_weighted_knn_prediction(train_data, test_data, k = 5, metric = 'cosine'):\n",
    "    # Create the NearestNeighbors model with the parameters passed in the function\n",
    "    # Since the datasets are sparse the algorithm is set to 'brute'(force)\n",
    "    knn_model = NearestNeighbors(metric=metric,algorithm='brute',n_jobs=-1)\n",
    "\n",
    "    # Fit the model with the training data\n",
    "    knn_model_fitted = knn_model.fit(train_data.toarray())\n",
    "\n",
    "    # Find the closest distance with k amount of users for the passed 'test_data' (either the validation or test dataset depending on the stage)\n",
    "    distance, indices = knn_model_fitted.kneighbors(test_data.toarray(),k)\n",
    "\n",
    "    # Create a sorted list including the distances and userId for each user in the test_data that we can iterate through\n",
    "    sorted_distance_list = sorted(list(zip(indices.squeeze().tolist(), distance.squeeze().tolist())), key=lambda x: x[1])\n",
    "    \n",
    "    # Transform the train_data to be able to search by index\n",
    "    users_df = pd.DataFrame(train_data.toarray())\n",
    "\n",
    "    # We will now iterate through the list calculating the average ratings given for each item by the k most similar users \n",
    "    knn_prediction = []\n",
    "    for i, (idx, dist) in enumerate(sorted_distance_list):\n",
    "        # Take the inverse of the distance to be used as weight \n",
    "        inv = 1 / np.array(dist)\n",
    "        # Since some distances are close to 0 we need to set 'inf' values to an actual value in order to calculate the prediction\n",
    "        inv[inv == np.inf] = 10000000\n",
    "        \n",
    "        # Select the rating of the similar users from the train dataset\n",
    "        sim_users = np.array(users_df[users_df.index.isin(idx)])\n",
    "\n",
    "        # Mask the 0 ratings of the similar user ratings\n",
    "        masked_ar = np.ma.masked_values(sim_users, 0)\n",
    "        # Calculate the average rating for each non masked item. The weight of each user is first multiplied with their given rating and then divided by the sum of the weights used on the non masked ratings.\n",
    "        masked_ar_av = np.ma.average(masked_ar,axis=0,weights=inv)\n",
    "        # masked_ar_av.data will provide the array without the mask returning 0 for all the masked items\n",
    "        knn_prediction.append(masked_ar_av.data)\n",
    "\n",
    "    return np.array(knn_prediction)\n"
   ]
  },
  {
   "attachments": {},
   "cell_type": "markdown",
   "metadata": {},
   "source": [
    "### 5.1.2 KNN Hyperparameter Tuning"
   ]
  },
  {
   "attachments": {},
   "cell_type": "markdown",
   "metadata": {},
   "source": [
    "In order to find the optimal parameters to create the KNN model with, hyperparameter tuning will be performed. In our case we will search for the optimal number of neighbors, which is denoted by the parameter k. K determines the number of neighbors that are considered when making a prediction for a given data point. A higher value of k results in a smoother decision boundary, but can also result in overfitting, while a lower value of k can result in noisy decision boundaries and underfitting. In order to find the optimal k, we will perform multiple iterations for each value and calculate the average RMSE of these iterations. Additionally, 3 different metrics will be used calculate similarity: 'euclidean', 'cosine', and 'minkowski'. In short, euclidean measures the straight line distance between two points, cosine measures the angle between two points, and Minkowski is a generalized distance metric that can be customized with a parameter."
   ]
  },
  {
   "cell_type": "code",
   "execution_count": 97,
   "metadata": {},
   "outputs": [],
   "source": [
    "def hyper_parameter_tuning_knn(dataset, iterations = 10):\n",
    "    # Set all values of k that will be tested. The values are all odd to ensure no ties can occur when comparing neighbors\n",
    "    n_neighbors = [3,5,25,51,101]\n",
    "    \n",
    "    # The 3 different metrics to test\n",
    "    metric = ['euclidean','cosine','minkowski']\n",
    "\n",
    "    # Iterate through each combination of hyperparameters \n",
    "    # For each combination perform x iterations and calculate the average RMSE of the iterations\n",
    "    hpt_results = []\n",
    "    for met in metric:\n",
    "        for k in n_neighbors:\n",
    "            rmse_list = []\n",
    "            mae_list = []\n",
    "            for i in range(0,iterations):\n",
    "                # Split the dataset for each iteration to calculate the rmse for that sample\n",
    "                knn_train, knn_validation, knn_test = train_test(dataset)\n",
    "                # First call the function creating the KNN model and returning the prediction for the validation set by calling: calculate_weighted_knn_prediction\n",
    "                # Then calculate the RMSE and MAE of truth and prediction\n",
    "                rmse, mae = evaluate_predictions(calculate_weighted_knn_prediction(train_data = knn_train, test_data = knn_validation, metric = met, k = k),knn_validation.toarray())\n",
    "                rmse_list.append(rmse)\n",
    "                mae_list.append(mae)\n",
    "            # Print and append the average RMSE and MAE with their combination of hyperparameters\n",
    "            print('For k = {0} using {1}, the average rmse = {2} and mae = {3}'.format(k,met,(sum(rmse_list)/len(rmse_list)),(sum(mae_list)/len(mae_list))))\n",
    "            hpt_results.append([(sum(rmse_list)/len(rmse_list)),met,k,(sum(mae_list)/len(mae_list))])\n",
    "    print(hpt_results)\n",
    "\n",
    "    # Find the parameters with the lowest RMSE\n",
    "    best_parameters_knn = sorted(hpt_results, key=lambda x: x[0])[0]\n",
    "    print(best_parameters_knn)\n",
    "\n",
    "    return best_parameters_knn"
   ]
  },
  {
   "attachments": {},
   "cell_type": "markdown",
   "metadata": {},
   "source": [
    "## 5.2 Singular Value Decomposition (SVD)"
   ]
  },
  {
   "attachments": {},
   "cell_type": "markdown",
   "metadata": {},
   "source": [
    "### 5.2.1 SVD Model"
   ]
  },
  {
   "attachments": {},
   "cell_type": "markdown",
   "metadata": {},
   "source": [
    "Singular Value Decomposition is a matrix factorization technique used in recommender systems for reducing the dimensionality of user-item interaction data. The user-item interaction matrix is decomposed into three matrices: a user matrix, an item matrix, and a diagonal matrix of singular values. One method of using SVD to generate recommendations is to limit the amount of 'k' singular values used when reducing the original matrix. Then when the matrix is recreated using the u, s, and v transposed matrices, all entries will be estimated. The values for the, first, empty entries are seen as the predictions."
   ]
  },
  {
   "cell_type": "code",
   "execution_count": 90,
   "metadata": {},
   "outputs": [],
   "source": [
    "def calculate_svd_prediction(data, k = 5):\n",
    "    # Performing the SVD matrix factorisation giving: u (m x r) orthogonal matrix, \n",
    "    # s (r x r) diagonal matrix, and vt(ransposed) (r x n) orthogonal matrix.\n",
    "    u, s, vt = svds(data.toarray(), k = k)\n",
    "\n",
    "    # A diagonal matrix has to be created for s in order to recreate a matrix from u, s, and vt\n",
    "    s_diagonal = np.diag(s)\n",
    "\n",
    "    # Recreate the matrix by performing matrix multiplications of u, s, and vt\n",
    "    predictions = np.dot(np.dot(u, s_diagonal), vt)\n",
    "    \n",
    "    return predictions"
   ]
  },
  {
   "attachments": {},
   "cell_type": "markdown",
   "metadata": {},
   "source": [
    "### 5.2.2 SVD Hyperparameter Tuning"
   ]
  },
  {
   "attachments": {},
   "cell_type": "markdown",
   "metadata": {},
   "source": [
    "For the hyperparameter tuning of the SVD we take a similar approach to KNN. SVD only has one hyperparameter to tune, which is the 'k' amount of singular values and singular vectors to use. We will perform an X amount of iterations for each k to calculate the average RMSE for that value. "
   ]
  },
  {
   "cell_type": "code",
   "execution_count": null,
   "metadata": {},
   "outputs": [],
   "source": [
    "def hyper_parameter_tuning_svd(dataset, iterations = 10):\n",
    "    results = []\n",
    "    # print('Calculating the average rmse over {0} iterations'.format(iterations))\n",
    "    print('Calculating the average rmse over 10 iterations')\n",
    "\n",
    "    # List with k values that will be tested\n",
    "    k_list = [1,2,3,4,5,6,7,8,9,10,20,30,50,80]\n",
    "\n",
    "    # As k has to be 0 < k < min(Matrix.shape) in SVD the values in k_list that are higher are filtered out.\n",
    "    # The shape of the items in the matrix is passed with csr_matrix(dataset.pivot_table(index='userId', columns='itemId', values='rating').fillna(0).values).shape[1]\n",
    "    k_list = list(filter(lambda num: num < csr_matrix(dataset.pivot_table(index='userId', columns='itemId', values='rating').fillna(0).values).shape[1], k_list))\n",
    "    print(k_list)\n",
    "    \n",
    "    for k in k_list:\n",
    "        rmse_list = []\n",
    "        for i in range(0,iterations):\n",
    "            # Split the original dataframe to take out some user-item-rating combinations making the matrix see the rating of that sample as 0\n",
    "            dataset_ex_masked, masked_data = train_test_split(dataset, test_size=.05)\n",
    "\n",
    "            # Create two sparse matrices, one to train the SVD model on, and one to evaluate the performance of that model with.\n",
    "            dataset_ex_masked_csr = csr_matrix(dataset_ex_masked.pivot_table(index='userId', columns='itemId', values='rating').fillna(0).values)\n",
    "            masked_data_csr = csr_matrix(masked_data.pivot_table(index='userId', columns='itemId', values='rating').fillna(0).values)\n",
    "\n",
    "            # First call the function to get the prediction for all values in the masked matrix\n",
    "            # Second evaluate the prediction with the true ratings that were taken out of the matrix\n",
    "            rmse, mae = evaluate_predictions(calculate_svd_prediction(dataset_ex_masked_csr,k),masked_data_csr.toarray())\n",
    "            \n",
    "            rmse_list.append(rmse)\n",
    "    \n",
    "        results.append([k,(sum(rmse_list)/len(rmse_list))])\n",
    "        print('For k = {0}, the average rmse = {1}'.format(k,(sum(rmse_list)/len(rmse_list))))\n",
    "\n",
    "    # Find k for with the lowest RMSE\n",
    "    best_parameters_svd = sorted(results, key=lambda x: x[1])[0]\n",
    "    print('The rmse is lowest for k = {0} at = {1}'.format(best_parameters_svd[0],best_parameters_svd[1]))\n",
    "    \n",
    "    return best_parameters_svd\n",
    "    "
   ]
  },
  {
   "attachments": {},
   "cell_type": "markdown",
   "metadata": {},
   "source": [
    "# 6 Model Evaluation"
   ]
  },
  {
   "attachments": {},
   "cell_type": "markdown",
   "metadata": {},
   "source": [
    "Finally, this chapter will answer the following sub question: 'How do KNN and SVD perform on both datasets?', by evaluating the performance of the KNN and SVD models for both datasets."
   ]
  },
  {
   "attachments": {},
   "cell_type": "markdown",
   "metadata": {},
   "source": [
    "## 6.1 Performance Netflix Dataset"
   ]
  },
  {
   "attachments": {},
   "cell_type": "markdown",
   "metadata": {},
   "source": [
    "We will compare the performance of both RecSys models on the netflix dataset by performing hyperparameter tuning to find the best RMSE followed by a comparison of a recommendation for the same user. The amount of iterations have been set at 10, since finding the optimal hyperparameters can take a long time. This can be changed in a later stage."
   ]
  },
  {
   "attachments": {},
   "cell_type": "markdown",
   "metadata": {},
   "source": [
    "### 6.1.1 Results KNN model"
   ]
  },
  {
   "cell_type": "code",
   "execution_count": 98,
   "metadata": {},
   "outputs": [
    {
     "name": "stdout",
     "output_type": "stream",
     "text": [
      "For k = 3 using euclidean, the average rmse = 3.082122436279729 and mae = 2.6798367808450636\n",
      "For k = 5 using euclidean, the average rmse = 3.0288182409670306 and mae = 2.620066083053906\n",
      "For k = 25 using euclidean, the average rmse = 2.770919112347695 and mae = 2.320724764652374\n",
      "For k = 51 using euclidean, the average rmse = 2.611393194620735 and mae = 2.1429826185317196\n",
      "For k = 101 using euclidean, the average rmse = 2.392266683567783 and mae = 1.9236215669693337\n",
      "For k = 3 using cosine, the average rmse = 3.0815052198499786 and mae = 2.6724405805592455\n",
      "For k = 5 using cosine, the average rmse = 3.046514689965431 and mae = 2.6292649002765898\n",
      "For k = 25 using cosine, the average rmse = 2.7554758708616935 and mae = 2.282257632965543\n",
      "For k = 51 using cosine, the average rmse = 2.539856548529697 and mae = 2.0474623958311495\n",
      "For k = 101 using cosine, the average rmse = 2.3071779984165772 and mae = 1.8084251547656527\n",
      "For k = 3 using minkowski, the average rmse = 3.0890473181249454 and mae = 2.681758347781757\n",
      "For k = 5 using minkowski, the average rmse = 3.0586630750191492 and mae = 2.6531873511326447\n",
      "For k = 25 using minkowski, the average rmse = 2.7937550318816404 and mae = 2.345943241043958\n",
      "For k = 51 using minkowski, the average rmse = 2.609137494146005 and mae = 2.1442449517866207\n",
      "For k = 101 using minkowski, the average rmse = 2.406366671190263 and mae = 1.9432527007300842\n",
      "[[3.082122436279729, 'euclidean', 3, 2.6798367808450636], [3.0288182409670306, 'euclidean', 5, 2.620066083053906], [2.770919112347695, 'euclidean', 25, 2.320724764652374], [2.611393194620735, 'euclidean', 51, 2.1429826185317196], [2.392266683567783, 'euclidean', 101, 1.9236215669693337], [3.0815052198499786, 'cosine', 3, 2.6724405805592455], [3.046514689965431, 'cosine', 5, 2.6292649002765898], [2.7554758708616935, 'cosine', 25, 2.282257632965543], [2.539856548529697, 'cosine', 51, 2.0474623958311495], [2.3071779984165772, 'cosine', 101, 1.8084251547656527], [3.0890473181249454, 'minkowski', 3, 2.681758347781757], [3.0586630750191492, 'minkowski', 5, 2.6531873511326447], [2.7937550318816404, 'minkowski', 25, 2.345943241043958], [2.609137494146005, 'minkowski', 51, 2.1442449517866207], [2.406366671190263, 'minkowski', 101, 1.9432527007300842]]\n",
      "[2.3071779984165772, 'cosine', 101, 1.8084251547656527]\n"
     ]
    }
   ],
   "source": [
    "best_params_knn = hyper_parameter_tuning_knn(dataset = filtered_netflix_df, iterations = 1)"
   ]
  },
  {
   "attachments": {},
   "cell_type": "markdown",
   "metadata": {},
   "source": [
    "### 6.1.2 Results SVD model"
   ]
  },
  {
   "cell_type": "code",
   "execution_count": 277,
   "metadata": {},
   "outputs": [
    {
     "name": "stdout",
     "output_type": "stream",
     "text": [
      "Calculating the average rmse over 5 iterations\n",
      "[1, 2, 3, 4, 5, 6, 7, 8, 9, 10, 20, 30, 50, 80]\n",
      "For k = 1, the average rmse = 3.183610482056308\n",
      "For k = 2, the average rmse = 3.011036863539542\n",
      "For k = 3, the average rmse = 3.2053174960170865\n",
      "For k = 4, the average rmse = 3.2819519807392767\n",
      "For k = 5, the average rmse = 3.2372151644143576\n",
      "For k = 6, the average rmse = 3.1353422347230184\n",
      "For k = 7, the average rmse = 3.153039972805136\n",
      "For k = 8, the average rmse = 3.2456700595203776\n",
      "For k = 9, the average rmse = 3.2886503621540193\n",
      "For k = 10, the average rmse = 3.3660307904060334\n",
      "For k = 20, the average rmse = 3.38025552188751\n",
      "For k = 30, the average rmse = 3.225958291853574\n",
      "For k = 50, the average rmse = 3.2641658231507273\n",
      "For k = 80, the average rmse = 3.277750652186991\n",
      "The rmse is lowest for k = 2 at = 3.011036863539542\n"
     ]
    }
   ],
   "source": [
    "best_params_svd = hyper_parameter_tuning_svd(dataset = filtered_netflix_df, iterations = 5)"
   ]
  },
  {
   "attachments": {},
   "cell_type": "markdown",
   "metadata": {},
   "source": [
    "### 6.1.3 Comparison KNN & SVD for Netflix"
   ]
  },
  {
   "cell_type": "code",
   "execution_count": null,
   "metadata": {},
   "outputs": [],
   "source": [
    "recommend_for_user = 100"
   ]
  },
  {
   "cell_type": "code",
   "execution_count": 349,
   "metadata": {},
   "outputs": [
    {
     "name": "stdout",
     "output_type": "stream",
     "text": [
      "Rated items are: [27, 28, 29, 57, 66, 76]\n",
      "45    0.429410\n",
      "17    0.366899\n",
      "77    0.353653\n",
      "Name: 30878, dtype: float64\n"
     ]
    }
   ],
   "source": [
    "recommendation_csr_matrix = csr_matrix(filtered_netflix_df.pivot_table(index='userId', columns='itemId', values='rating').fillna(0).values)\n",
    "predictions = calculate_svd_prediction(recommendation_csr_matrix,best_params_svd[0])\n",
    "\n",
    "user_pred_df = pd.DataFrame(predictions)\n",
    "user_sel_pred_df = user_pred_df.loc[recommend_for_user].sort_values(ascending=False)\n",
    "\n",
    "user_df = pd.DataFrame(recommendation_csr_matrix.toarray())\n",
    "selected = pd.DataFrame(user_df.loc[recommend_for_user])\n",
    "rated_movies = selected.loc[~(selected==0).all(axis=1)].index.values.tolist()\n",
    "\n",
    "recommended_movies = user_sel_pred_df.loc[~user_sel_pred_df.index.isin(rated_movies)]\n",
    "\n",
    "print('Rated items are:',rated_movies)\n",
    "print(recommended_movies[:3])"
   ]
  },
  {
   "cell_type": "code",
   "execution_count": 356,
   "metadata": {},
   "outputs": [
    {
     "name": "stdout",
     "output_type": "stream",
     "text": [
      "Rated items are: [27, 28, 29, 57, 66, 76]\n",
      "96    4.4\n",
      "17    3.8\n",
      "88    3.0\n",
      "Name: 0, dtype: float64\n"
     ]
    }
   ],
   "source": [
    "recommendation_csr_matrix = csr_matrix(filtered_netflix_df.pivot_table(index='userId', columns='itemId', values='rating').fillna(0).values)\n",
    "recommendation_csr_matrix_sel = recommendation_csr_matrix[recommend_for_user:recommend_for_user+10]\n",
    "recommendation_csr_matrix_train = recommendation_csr_matrix[~recommend_for_user:recommend_for_user+10]\n",
    "predictions = calculate_weighted_knn_prediction(train_data=recommendation_csr_matrix_train,test_data=recommendation_csr_matrix_sel,metric=best_params_knn[1],k=best_params_knn[2])\n",
    "\n",
    "user_pred_df = pd.DataFrame(predictions[0])\n",
    "\n",
    "user_sel_pred_df = user_pred_df[0].sort_values(ascending=False)\n",
    "\n",
    "user_df = pd.DataFrame(recommendation_csr_matrix.toarray())\n",
    "selected = pd.DataFrame(user_df.loc[recommend_for_user])\n",
    "rated_movies = selected.loc[~(selected==0).all(axis=1)].index.values.tolist()\n",
    "\n",
    "recommended_movies = user_sel_pred_df.loc[~user_sel_pred_df.index.isin(rated_movies)]\n",
    "\n",
    "print('Rated items are:',rated_movies)\n",
    "print(recommended_movies[:3])"
   ]
  },
  {
   "attachments": {},
   "cell_type": "markdown",
   "metadata": {},
   "source": [
    "## 6.2 Performance Jester Dataset"
   ]
  },
  {
   "attachments": {},
   "cell_type": "markdown",
   "metadata": {},
   "source": [
    "### 6.2.1 Results KNN model"
   ]
  },
  {
   "cell_type": "code",
   "execution_count": null,
   "metadata": {},
   "outputs": [],
   "source": [
    "knn_train_jester, knn_validation_jester, knn_test_jester = train_test(filtered_jester_df)"
   ]
  },
  {
   "cell_type": "code",
   "execution_count": null,
   "metadata": {},
   "outputs": [
    {
     "ename": "KeyboardInterrupt",
     "evalue": "",
     "output_type": "error",
     "traceback": [
      "\u001b[1;31m---------------------------------------------------------------------------\u001b[0m",
      "\u001b[1;31mKeyboardInterrupt\u001b[0m                         Traceback (most recent call last)",
      "\u001b[1;32m~\\AppData\\Local\\Temp\\ipykernel_21688\\1819214268.py\u001b[0m in \u001b[0;36m<module>\u001b[1;34m\u001b[0m\n\u001b[1;32m----> 1\u001b[1;33m \u001b[0mbest_params_knn\u001b[0m \u001b[1;33m=\u001b[0m \u001b[0mhyper_parameter_tuning_knn\u001b[0m\u001b[1;33m(\u001b[0m\u001b[0mtrain_data\u001b[0m \u001b[1;33m=\u001b[0m \u001b[0mknn_train_jester\u001b[0m\u001b[1;33m,\u001b[0m \u001b[0mvalidation_data\u001b[0m \u001b[1;33m=\u001b[0m \u001b[0mknn_validation_jester\u001b[0m\u001b[1;33m,\u001b[0m\u001b[0mweighted\u001b[0m \u001b[1;33m=\u001b[0m \u001b[1;32mTrue\u001b[0m\u001b[1;33m)\u001b[0m\u001b[1;33m\u001b[0m\u001b[1;33m\u001b[0m\u001b[0m\n\u001b[0m",
      "\u001b[1;32m~\\AppData\\Local\\Temp\\ipykernel_21688\\2874395102.py\u001b[0m in \u001b[0;36mhyper_parameter_tuning_knn\u001b[1;34m(train_data, validation_data, weighted)\u001b[0m\n\u001b[0;32m     12\u001b[0m         \u001b[1;32mfor\u001b[0m \u001b[0mk\u001b[0m \u001b[1;32min\u001b[0m \u001b[0mn_neighbors\u001b[0m\u001b[1;33m:\u001b[0m\u001b[1;33m\u001b[0m\u001b[1;33m\u001b[0m\u001b[0m\n\u001b[0;32m     13\u001b[0m \u001b[1;33m\u001b[0m\u001b[0m\n\u001b[1;32m---> 14\u001b[1;33m             \u001b[0mrmse\u001b[0m\u001b[1;33m,\u001b[0m \u001b[0mmae\u001b[0m \u001b[1;33m=\u001b[0m \u001b[0mevaluate_predictions\u001b[0m\u001b[1;33m(\u001b[0m\u001b[0mpred_function\u001b[0m\u001b[1;33m(\u001b[0m\u001b[0mtrain_data\u001b[0m \u001b[1;33m=\u001b[0m \u001b[0mtrain_data\u001b[0m\u001b[1;33m,\u001b[0m \u001b[0mtest_data\u001b[0m \u001b[1;33m=\u001b[0m \u001b[0mvalidation_data\u001b[0m\u001b[1;33m,\u001b[0m \u001b[0mmetric\u001b[0m \u001b[1;33m=\u001b[0m \u001b[0mmet\u001b[0m\u001b[1;33m,\u001b[0m \u001b[0mk\u001b[0m \u001b[1;33m=\u001b[0m \u001b[0mk\u001b[0m\u001b[1;33m)\u001b[0m\u001b[1;33m,\u001b[0m\u001b[0mvalidation_data\u001b[0m\u001b[1;33m.\u001b[0m\u001b[0mtoarray\u001b[0m\u001b[1;33m(\u001b[0m\u001b[1;33m)\u001b[0m\u001b[1;33m)\u001b[0m\u001b[1;33m\u001b[0m\u001b[1;33m\u001b[0m\u001b[0m\n\u001b[0m\u001b[0;32m     15\u001b[0m \u001b[1;33m\u001b[0m\u001b[0m\n\u001b[0;32m     16\u001b[0m             \u001b[0mhpt_results\u001b[0m\u001b[1;33m.\u001b[0m\u001b[0mappend\u001b[0m\u001b[1;33m(\u001b[0m\u001b[1;33m[\u001b[0m\u001b[0mrmse\u001b[0m\u001b[1;33m,\u001b[0m\u001b[0mmet\u001b[0m\u001b[1;33m,\u001b[0m\u001b[0mk\u001b[0m\u001b[1;33m]\u001b[0m\u001b[1;33m)\u001b[0m\u001b[1;33m\u001b[0m\u001b[1;33m\u001b[0m\u001b[0m\n",
      "\u001b[1;32m~\\AppData\\Local\\Temp\\ipykernel_21688\\2940763307.py\u001b[0m in \u001b[0;36mcalculate_weighted_knn_prediction\u001b[1;34m(train_data, test_data, k, metric)\u001b[0m\n\u001b[0;32m      7\u001b[0m \u001b[1;33m\u001b[0m\u001b[0m\n\u001b[0;32m      8\u001b[0m     \u001b[1;31m# Find the closest distance with k amount of users for the passed 'test_data' (either the validation or test dataset depending on the stage)\u001b[0m\u001b[1;33m\u001b[0m\u001b[1;33m\u001b[0m\u001b[0m\n\u001b[1;32m----> 9\u001b[1;33m     \u001b[0mdistance\u001b[0m\u001b[1;33m,\u001b[0m \u001b[0mindices\u001b[0m \u001b[1;33m=\u001b[0m \u001b[0mknn_model_fitted\u001b[0m\u001b[1;33m.\u001b[0m\u001b[0mkneighbors\u001b[0m\u001b[1;33m(\u001b[0m\u001b[0mtest_data\u001b[0m\u001b[1;33m.\u001b[0m\u001b[0mtoarray\u001b[0m\u001b[1;33m(\u001b[0m\u001b[1;33m)\u001b[0m\u001b[1;33m,\u001b[0m\u001b[0mk\u001b[0m\u001b[1;33m)\u001b[0m\u001b[1;33m\u001b[0m\u001b[1;33m\u001b[0m\u001b[0m\n\u001b[0m\u001b[0;32m     10\u001b[0m \u001b[1;33m\u001b[0m\u001b[0m\n\u001b[0;32m     11\u001b[0m     \u001b[1;31m# Create a sorted list including the distances and userId for each user in the test_data that we can iterate through\u001b[0m\u001b[1;33m\u001b[0m\u001b[1;33m\u001b[0m\u001b[0m\n",
      "\u001b[1;32mc:\\Users\\vbraun\\Anaconda3\\lib\\site-packages\\sklearn\\neighbors\\_base.py\u001b[0m in \u001b[0;36mkneighbors\u001b[1;34m(self, X, n_neighbors, return_distance)\u001b[0m\n\u001b[0;32m    750\u001b[0m                 \u001b[0mkwds\u001b[0m \u001b[1;33m=\u001b[0m \u001b[0mself\u001b[0m\u001b[1;33m.\u001b[0m\u001b[0meffective_metric_params_\u001b[0m\u001b[1;33m\u001b[0m\u001b[1;33m\u001b[0m\u001b[0m\n\u001b[0;32m    751\u001b[0m \u001b[1;33m\u001b[0m\u001b[0m\n\u001b[1;32m--> 752\u001b[1;33m             chunked_results = list(\n\u001b[0m\u001b[0;32m    753\u001b[0m                 pairwise_distances_chunked(\n\u001b[0;32m    754\u001b[0m                     \u001b[0mX\u001b[0m\u001b[1;33m,\u001b[0m\u001b[1;33m\u001b[0m\u001b[1;33m\u001b[0m\u001b[0m\n",
      "\u001b[1;32mc:\\Users\\vbraun\\Anaconda3\\lib\\site-packages\\sklearn\\metrics\\pairwise.py\u001b[0m in \u001b[0;36mpairwise_distances_chunked\u001b[1;34m(X, Y, reduce_func, metric, n_jobs, working_memory, **kwds)\u001b[0m\n\u001b[0;32m   1724\u001b[0m         \u001b[1;32mif\u001b[0m \u001b[0mreduce_func\u001b[0m \u001b[1;32mis\u001b[0m \u001b[1;32mnot\u001b[0m \u001b[1;32mNone\u001b[0m\u001b[1;33m:\u001b[0m\u001b[1;33m\u001b[0m\u001b[1;33m\u001b[0m\u001b[0m\n\u001b[0;32m   1725\u001b[0m             \u001b[0mchunk_size\u001b[0m \u001b[1;33m=\u001b[0m \u001b[0mD_chunk\u001b[0m\u001b[1;33m.\u001b[0m\u001b[0mshape\u001b[0m\u001b[1;33m[\u001b[0m\u001b[1;36m0\u001b[0m\u001b[1;33m]\u001b[0m\u001b[1;33m\u001b[0m\u001b[1;33m\u001b[0m\u001b[0m\n\u001b[1;32m-> 1726\u001b[1;33m             \u001b[0mD_chunk\u001b[0m \u001b[1;33m=\u001b[0m \u001b[0mreduce_func\u001b[0m\u001b[1;33m(\u001b[0m\u001b[0mD_chunk\u001b[0m\u001b[1;33m,\u001b[0m \u001b[0msl\u001b[0m\u001b[1;33m.\u001b[0m\u001b[0mstart\u001b[0m\u001b[1;33m)\u001b[0m\u001b[1;33m\u001b[0m\u001b[1;33m\u001b[0m\u001b[0m\n\u001b[0m\u001b[0;32m   1727\u001b[0m             \u001b[0m_check_chunk_size\u001b[0m\u001b[1;33m(\u001b[0m\u001b[0mD_chunk\u001b[0m\u001b[1;33m,\u001b[0m \u001b[0mchunk_size\u001b[0m\u001b[1;33m)\u001b[0m\u001b[1;33m\u001b[0m\u001b[1;33m\u001b[0m\u001b[0m\n\u001b[0;32m   1728\u001b[0m         \u001b[1;32myield\u001b[0m \u001b[0mD_chunk\u001b[0m\u001b[1;33m\u001b[0m\u001b[1;33m\u001b[0m\u001b[0m\n",
      "\u001b[1;32mc:\\Users\\vbraun\\Anaconda3\\lib\\site-packages\\sklearn\\neighbors\\_base.py\u001b[0m in \u001b[0;36m_kneighbors_reduce_func\u001b[1;34m(self, dist, start, n_neighbors, return_distance)\u001b[0m\n\u001b[0;32m    632\u001b[0m         \"\"\"\n\u001b[0;32m    633\u001b[0m         \u001b[0msample_range\u001b[0m \u001b[1;33m=\u001b[0m \u001b[0mnp\u001b[0m\u001b[1;33m.\u001b[0m\u001b[0marange\u001b[0m\u001b[1;33m(\u001b[0m\u001b[0mdist\u001b[0m\u001b[1;33m.\u001b[0m\u001b[0mshape\u001b[0m\u001b[1;33m[\u001b[0m\u001b[1;36m0\u001b[0m\u001b[1;33m]\u001b[0m\u001b[1;33m)\u001b[0m\u001b[1;33m[\u001b[0m\u001b[1;33m:\u001b[0m\u001b[1;33m,\u001b[0m \u001b[1;32mNone\u001b[0m\u001b[1;33m]\u001b[0m\u001b[1;33m\u001b[0m\u001b[1;33m\u001b[0m\u001b[0m\n\u001b[1;32m--> 634\u001b[1;33m         \u001b[0mneigh_ind\u001b[0m \u001b[1;33m=\u001b[0m \u001b[0mnp\u001b[0m\u001b[1;33m.\u001b[0m\u001b[0margpartition\u001b[0m\u001b[1;33m(\u001b[0m\u001b[0mdist\u001b[0m\u001b[1;33m,\u001b[0m \u001b[0mn_neighbors\u001b[0m \u001b[1;33m-\u001b[0m \u001b[1;36m1\u001b[0m\u001b[1;33m,\u001b[0m \u001b[0maxis\u001b[0m\u001b[1;33m=\u001b[0m\u001b[1;36m1\u001b[0m\u001b[1;33m)\u001b[0m\u001b[1;33m\u001b[0m\u001b[1;33m\u001b[0m\u001b[0m\n\u001b[0m\u001b[0;32m    635\u001b[0m         \u001b[0mneigh_ind\u001b[0m \u001b[1;33m=\u001b[0m \u001b[0mneigh_ind\u001b[0m\u001b[1;33m[\u001b[0m\u001b[1;33m:\u001b[0m\u001b[1;33m,\u001b[0m \u001b[1;33m:\u001b[0m\u001b[0mn_neighbors\u001b[0m\u001b[1;33m]\u001b[0m\u001b[1;33m\u001b[0m\u001b[1;33m\u001b[0m\u001b[0m\n\u001b[0;32m    636\u001b[0m         \u001b[1;31m# argpartition doesn't guarantee sorted order, so we sort again\u001b[0m\u001b[1;33m\u001b[0m\u001b[1;33m\u001b[0m\u001b[0m\n",
      "\u001b[1;32m<__array_function__ internals>\u001b[0m in \u001b[0;36margpartition\u001b[1;34m(*args, **kwargs)\u001b[0m\n",
      "\u001b[1;32mc:\\Users\\vbraun\\Anaconda3\\lib\\site-packages\\numpy\\core\\fromnumeric.py\u001b[0m in \u001b[0;36margpartition\u001b[1;34m(a, kth, axis, kind, order)\u001b[0m\n\u001b[0;32m    837\u001b[0m \u001b[1;33m\u001b[0m\u001b[0m\n\u001b[0;32m    838\u001b[0m     \"\"\"\n\u001b[1;32m--> 839\u001b[1;33m     \u001b[1;32mreturn\u001b[0m \u001b[0m_wrapfunc\u001b[0m\u001b[1;33m(\u001b[0m\u001b[0ma\u001b[0m\u001b[1;33m,\u001b[0m \u001b[1;34m'argpartition'\u001b[0m\u001b[1;33m,\u001b[0m \u001b[0mkth\u001b[0m\u001b[1;33m,\u001b[0m \u001b[0maxis\u001b[0m\u001b[1;33m=\u001b[0m\u001b[0maxis\u001b[0m\u001b[1;33m,\u001b[0m \u001b[0mkind\u001b[0m\u001b[1;33m=\u001b[0m\u001b[0mkind\u001b[0m\u001b[1;33m,\u001b[0m \u001b[0morder\u001b[0m\u001b[1;33m=\u001b[0m\u001b[0morder\u001b[0m\u001b[1;33m)\u001b[0m\u001b[1;33m\u001b[0m\u001b[1;33m\u001b[0m\u001b[0m\n\u001b[0m\u001b[0;32m    840\u001b[0m \u001b[1;33m\u001b[0m\u001b[0m\n\u001b[0;32m    841\u001b[0m \u001b[1;33m\u001b[0m\u001b[0m\n",
      "\u001b[1;32mc:\\Users\\vbraun\\Anaconda3\\lib\\site-packages\\numpy\\core\\fromnumeric.py\u001b[0m in \u001b[0;36m_wrapfunc\u001b[1;34m(obj, method, *args, **kwds)\u001b[0m\n\u001b[0;32m     55\u001b[0m \u001b[1;33m\u001b[0m\u001b[0m\n\u001b[0;32m     56\u001b[0m     \u001b[1;32mtry\u001b[0m\u001b[1;33m:\u001b[0m\u001b[1;33m\u001b[0m\u001b[1;33m\u001b[0m\u001b[0m\n\u001b[1;32m---> 57\u001b[1;33m         \u001b[1;32mreturn\u001b[0m \u001b[0mbound\u001b[0m\u001b[1;33m(\u001b[0m\u001b[1;33m*\u001b[0m\u001b[0margs\u001b[0m\u001b[1;33m,\u001b[0m \u001b[1;33m**\u001b[0m\u001b[0mkwds\u001b[0m\u001b[1;33m)\u001b[0m\u001b[1;33m\u001b[0m\u001b[1;33m\u001b[0m\u001b[0m\n\u001b[0m\u001b[0;32m     58\u001b[0m     \u001b[1;32mexcept\u001b[0m \u001b[0mTypeError\u001b[0m\u001b[1;33m:\u001b[0m\u001b[1;33m\u001b[0m\u001b[1;33m\u001b[0m\u001b[0m\n\u001b[0;32m     59\u001b[0m         \u001b[1;31m# A TypeError occurs if the object does have such a method in its\u001b[0m\u001b[1;33m\u001b[0m\u001b[1;33m\u001b[0m\u001b[0m\n",
      "\u001b[1;31mKeyboardInterrupt\u001b[0m: "
     ]
    }
   ],
   "source": [
    "best_params_knn = hyper_parameter_tuning_knn(dataset = filtered_jester_df, iterations = 10)"
   ]
  },
  {
   "attachments": {},
   "cell_type": "markdown",
   "metadata": {},
   "source": [
    "### 6.2.2 Results SVD model"
   ]
  },
  {
   "cell_type": "code",
   "execution_count": null,
   "metadata": {},
   "outputs": [],
   "source": [
    "best_params_svd = hyper_parameter_tuning_svd(dataset = filtered_jester_df, iterations = 2)"
   ]
  },
  {
   "attachments": {},
   "cell_type": "markdown",
   "metadata": {},
   "source": [
    "### 6.2.3 Comparison KNN & SVD for Jester"
   ]
  },
  {
   "attachments": {},
   "cell_type": "markdown",
   "metadata": {},
   "source": [
    "#### 6.1.3.1 Performance"
   ]
  },
  {
   "attachments": {},
   "cell_type": "markdown",
   "metadata": {},
   "source": [
    "#### 6.1.3.2 Recommendations"
   ]
  },
  {
   "attachments": {},
   "cell_type": "markdown",
   "metadata": {},
   "source": [
    "KNN:"
   ]
  },
  {
   "cell_type": "code",
   "execution_count": null,
   "metadata": {},
   "outputs": [],
   "source": [
    "# recommend_for_user = 50\n",
    "\n",
    "# user_pred_df = pd.DataFrame(predictions)\n",
    "# user_sel_pred_df = user_pred_df.loc[recommend_for_user].sort_values(ascending=False)\n",
    "\n",
    "# user_df = pd.DataFrame(final_csr_matrix.toarray())\n",
    "# selected = pd.DataFrame(user_df.loc[recommend_for_user])\n",
    "# rated_movies = selected.loc[~(selected==0).all(axis=1)].index.values.tolist()\n",
    "\n",
    "# recommended_movies = user_sel_pred_df.loc[~user_sel_pred_df.index.isin(rated_movies)]\n",
    "\n",
    "# print('Rated items are:',rated_movies)\n",
    "# print(recommended_movies[:3])"
   ]
  },
  {
   "attachments": {},
   "cell_type": "markdown",
   "metadata": {},
   "source": [
    "SVD:"
   ]
  },
  {
   "cell_type": "code",
   "execution_count": null,
   "metadata": {},
   "outputs": [],
   "source": [
    "\n",
    "# final_csr_matrix = csr_matrix(filtered_df.pivot_table(index='userId', columns='itemId', values='rating').fillna(0).values)\n",
    "# predictions = hyper_svd(final_csr_matrix,best_parameters_svd[0])"
   ]
  },
  {
   "cell_type": "code",
   "execution_count": null,
   "metadata": {},
   "outputs": [],
   "source": [
    "# final_csr_matrix = csr_matrix(filtered_df.pivot_table(index='userId', columns='itemId', values='rating').fillna(0).values)\n",
    "# predictions = hyper_svd(final_csr_matrix,best_parameters_svd[0])\n",
    "\n",
    "# recommend_for_user = 650\n",
    "\n",
    "# user_pred_df = pd.DataFrame(predictions)\n",
    "# user_sel_pred_df = user_pred_df.loc[recommend_for_user].sort_values(ascending=False)\n",
    "\n",
    "# user_df = pd.DataFrame(final_csr_matrix.toarray())\n",
    "# selected = pd.DataFrame(user_df.loc[recommend_for_user])\n",
    "# rated_movies = selected.loc[~(selected==0).all(axis=1)].index.values.tolist()\n",
    "\n",
    "# recommended_movies = user_sel_pred_df.loc[~user_sel_pred_df.index.isin(rated_movies)]\n",
    "\n",
    "# print('Rated items are:',rated_movies)\n",
    "# print(recommended_movies[:3])"
   ]
  },
  {
   "attachments": {},
   "cell_type": "markdown",
   "metadata": {},
   "source": [
    "In order to answer the subquestion: \"How do the KNN and SVD models compare?\" we will compare compare the rmse of both models for the same dataset."
   ]
  }
 ],
 "metadata": {
  "kernelspec": {
   "display_name": "base",
   "language": "python",
   "name": "python3"
  },
  "language_info": {
   "codemirror_mode": {
    "name": "ipython",
    "version": 3
   },
   "file_extension": ".py",
   "mimetype": "text/x-python",
   "name": "python",
   "nbconvert_exporter": "python",
   "pygments_lexer": "ipython3",
   "version": "3.9.13"
  },
  "orig_nbformat": 4
 },
 "nbformat": 4,
 "nbformat_minor": 2
}
