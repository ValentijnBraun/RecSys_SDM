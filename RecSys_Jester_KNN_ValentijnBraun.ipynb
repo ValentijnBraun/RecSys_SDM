{
 "cells": [
  {
   "attachments": {},
   "cell_type": "markdown",
   "metadata": {},
   "source": [
    "# Importing"
   ]
  },
  {
   "attachments": {},
   "cell_type": "markdown",
   "metadata": {},
   "source": [
    "Importing the necessary libraries"
   ]
  },
  {
   "cell_type": "code",
   "execution_count": 2,
   "metadata": {},
   "outputs": [],
   "source": [
    "import pandas as pd\n",
    "import numpy as np\n",
    "\n",
    "import seaborn as sns\n",
    "\n",
    "from scipy.sparse import csr_matrix\n",
    "from sklearn.model_selection import train_test_split\n",
    "from sklearn.neighbors import NearestNeighbors\n",
    "\n",
    "from sklearn.metrics import mean_squared_error\n",
    "from sklearn.metrics import mean_absolute_error"
   ]
  },
  {
   "attachments": {},
   "cell_type": "markdown",
   "metadata": {},
   "source": [
    "# Data processing"
   ]
  },
  {
   "attachments": {},
   "cell_type": "markdown",
   "metadata": {},
   "source": [
    "Importing the datasets into a Dataframe"
   ]
  },
  {
   "cell_type": "code",
   "execution_count": 3,
   "metadata": {},
   "outputs": [
    {
     "data": {
      "text/html": [
       "<div>\n",
       "<style scoped>\n",
       "    .dataframe tbody tr th:only-of-type {\n",
       "        vertical-align: middle;\n",
       "    }\n",
       "\n",
       "    .dataframe tbody tr th {\n",
       "        vertical-align: top;\n",
       "    }\n",
       "\n",
       "    .dataframe thead th {\n",
       "        text-align: right;\n",
       "    }\n",
       "</style>\n",
       "<table border=\"1\" class=\"dataframe\">\n",
       "  <thead>\n",
       "    <tr style=\"text-align: right;\">\n",
       "      <th></th>\n",
       "      <th>jokeId</th>\n",
       "      <th>jokeText</th>\n",
       "    </tr>\n",
       "  </thead>\n",
       "  <tbody>\n",
       "    <tr>\n",
       "      <th>0</th>\n",
       "      <td>1</td>\n",
       "      <td>A man visits the doctor. The doctor says \"I ha...</td>\n",
       "    </tr>\n",
       "    <tr>\n",
       "      <th>1</th>\n",
       "      <td>2</td>\n",
       "      <td>This couple had an excellent relationship goin...</td>\n",
       "    </tr>\n",
       "    <tr>\n",
       "      <th>2</th>\n",
       "      <td>3</td>\n",
       "      <td>Q. What's 200 feet long and has 4 teeth? \\n\\nA...</td>\n",
       "    </tr>\n",
       "  </tbody>\n",
       "</table>\n",
       "</div>"
      ],
      "text/plain": [
       "   jokeId                                           jokeText\n",
       "0       1  A man visits the doctor. The doctor says \"I ha...\n",
       "1       2  This couple had an excellent relationship goin...\n",
       "2       3  Q. What's 200 feet long and has 4 teeth? \\n\\nA..."
      ]
     },
     "metadata": {},
     "output_type": "display_data"
    },
    {
     "data": {
      "text/html": [
       "<div>\n",
       "<style scoped>\n",
       "    .dataframe tbody tr th:only-of-type {\n",
       "        vertical-align: middle;\n",
       "    }\n",
       "\n",
       "    .dataframe tbody tr th {\n",
       "        vertical-align: top;\n",
       "    }\n",
       "\n",
       "    .dataframe thead th {\n",
       "        text-align: right;\n",
       "    }\n",
       "</style>\n",
       "<table border=\"1\" class=\"dataframe\">\n",
       "  <thead>\n",
       "    <tr style=\"text-align: right;\">\n",
       "      <th></th>\n",
       "      <th>userId</th>\n",
       "      <th>jokeId</th>\n",
       "      <th>rating</th>\n",
       "    </tr>\n",
       "  </thead>\n",
       "  <tbody>\n",
       "    <tr>\n",
       "      <th>0</th>\n",
       "      <td>1</td>\n",
       "      <td>5</td>\n",
       "      <td>0.219</td>\n",
       "    </tr>\n",
       "    <tr>\n",
       "      <th>1</th>\n",
       "      <td>1</td>\n",
       "      <td>7</td>\n",
       "      <td>-9.281</td>\n",
       "    </tr>\n",
       "    <tr>\n",
       "      <th>2</th>\n",
       "      <td>1</td>\n",
       "      <td>8</td>\n",
       "      <td>-9.281</td>\n",
       "    </tr>\n",
       "  </tbody>\n",
       "</table>\n",
       "</div>"
      ],
      "text/plain": [
       "   userId  jokeId  rating\n",
       "0       1       5   0.219\n",
       "1       1       7  -9.281\n",
       "2       1       8  -9.281"
      ]
     },
     "metadata": {},
     "output_type": "display_data"
    }
   ],
   "source": [
    "jester_items = pd.read_csv(r'C:\\Users\\vbraun\\Downloads\\SDM-Datasets\\jester_items.csv')\n",
    "jester_ratings = pd.read_csv(r'C:\\Users\\vbraun\\Downloads\\SDM-Datasets\\jester_ratings.csv')\n",
    "display(jester_items.head(3),jester_ratings.head(3))"
   ]
  },
  {
   "attachments": {},
   "cell_type": "markdown",
   "metadata": {},
   "source": [
    "As is shown above, only the 'jester_ratings' dataset is required for the creation of our RecSys model."
   ]
  },
  {
   "attachments": {},
   "cell_type": "markdown",
   "metadata": {},
   "source": [
    "The jokeId will be renamed to itemId to have a more universal dataset."
   ]
  },
  {
   "cell_type": "code",
   "execution_count": 4,
   "metadata": {},
   "outputs": [],
   "source": [
    "jester_df = jester_ratings.rename(columns={'jokeId':'itemId'})"
   ]
  },
  {
   "cell_type": "code",
   "execution_count": 5,
   "metadata": {},
   "outputs": [
    {
     "name": "stdout",
     "output_type": "stream",
     "text": [
      "Original length of dataset: 1761439\n",
      "The original dataset has 59132 unique users\n",
      "The original dataset has 140 unique jokes\n",
      "The original dataset has 641 unique ratings\n",
      "The unique ratings are [-10.0, -9.969, -9.938, -9.906, -9.875, -9.844, -9.812, -9.781, -9.75, -9.719, -9.688, -9.656, -9.625, -9.594, -9.562, -9.531, -9.5, -9.469, -9.438, -9.406, -9.375, -9.344, -9.312, -9.281, -9.25, -9.219, -9.188, -9.156, -9.125, -9.094, -9.062, -9.031, -9.0, -8.969, -8.937999999999999, -8.906, -8.875, -8.844, -8.812000000000001, -8.781, -8.75, -8.719, -8.687999999999999, -8.656, -8.625, -8.594, -8.562000000000001, -8.531, -8.5, -8.469, -8.437999999999999, -8.406, -8.375, -8.344, -8.312000000000001, -8.281, -8.25, -8.219, -8.187999999999999, -8.156, -8.125, -8.094, -8.062000000000001, -8.031, -8.0, -7.968999999999999, -7.938, -7.906000000000001, -7.875, -7.843999999999999, -7.812, -7.781000000000001, -7.75, -7.718999999999999, -7.688, -7.656000000000001, -7.625, -7.593999999999999, -7.562, -7.531000000000001, -7.5, -7.468999999999999, -7.438, -7.406000000000001, -7.375, -7.343999999999999, -7.312, -7.281000000000001, -7.25, -7.218999999999999, -7.188, -7.156000000000001, -7.125, -7.093999999999999, -7.062, -7.031000000000001, -7.0, -6.968999999999999, -6.938, -6.906000000000001, -6.875, -6.843999999999999, -6.812, -6.781000000000001, -6.75, -6.718999999999999, -6.688, -6.656000000000001, -6.625, -6.593999999999999, -6.562, -6.531000000000001, -6.5, -6.468999999999999, -6.438, -6.406000000000001, -6.375, -6.343999999999999, -6.312, -6.281000000000001, -6.25, -6.218999999999999, -6.188, -6.156000000000001, -6.125, -6.093999999999999, -6.062, -6.031000000000001, -6.0, -5.968999999999999, -5.938, -5.906000000000001, -5.875, -5.843999999999999, -5.812, -5.781000000000001, -5.75, -5.718999999999999, -5.688, -5.656000000000001, -5.625, -5.593999999999999, -5.562, -5.531000000000001, -5.5, -5.468999999999999, -5.438, -5.406000000000001, -5.375, -5.343999999999999, -5.312, -5.281000000000001, -5.25, -5.218999999999999, -5.188, -5.156000000000001, -5.125, -5.093999999999999, -5.062, -5.031000000000001, -5.0, -4.968999999999999, -4.938, -4.906000000000001, -4.875, -4.843999999999999, -4.812, -4.781000000000001, -4.75, -4.718999999999999, -4.688, -4.656000000000001, -4.625, -4.593999999999999, -4.562, -4.531000000000001, -4.5, -4.468999999999999, -4.438, -4.406000000000001, -4.375, -4.343999999999999, -4.312, -4.281000000000001, -4.25, -4.218999999999999, -4.188, -4.156000000000001, -4.125, -4.093999999999999, -4.062, -4.031000000000001, -4.0, -3.969, -3.938, -3.906, -3.875, -3.844, -3.812, -3.781, -3.75, -3.719, -3.688, -3.656, -3.625, -3.594, -3.562, -3.531, -3.5, -3.469, -3.438, -3.406, -3.375, -3.344, -3.312, -3.281, -3.25, -3.219, -3.188, -3.156, -3.125, -3.094, -3.062, -3.031, -3.0, -2.969, -2.938, -2.906, -2.875, -2.844, -2.812, -2.781, -2.75, -2.719, -2.688, -2.656, -2.625, -2.594, -2.562, -2.531, -2.5, -2.469, -2.438, -2.406, -2.375, -2.344, -2.312, -2.281, -2.25, -2.219, -2.188, -2.156, -2.125, -2.094, -2.062, -2.031, -2.0, -1.969, -1.938, -1.906, -1.875, -1.844, -1.812, -1.781, -1.75, -1.719, -1.6880000000000002, -1.656, -1.625, -1.594, -1.5619999999999998, -1.531, -1.5, -1.469, -1.4380000000000002, -1.406, -1.375, -1.344, -1.3119999999999998, -1.281, -1.25, -1.219, -1.188, -1.156, -1.125, -1.094, -1.062, -1.031, -1.0, -0.969, -0.938, -0.906, -0.875, -0.8440000000000001, -0.812, -0.7809999999999999, -0.75, -0.7190000000000001, -0.688, -0.6559999999999999, -0.625, -0.594, -0.562, -0.531, -0.5, -0.469, -0.4379999999999999, -0.406, -0.375, -0.344, -0.312, -0.281, -0.25, -0.2189999999999999, -0.188, -0.156, -0.125, -0.094, -0.062, -0.031, 0.0, 0.031, 0.062, 0.094, 0.125, 0.156, 0.188, 0.2189999999999999, 0.25, 0.281, 0.312, 0.344, 0.375, 0.406, 0.4379999999999999, 0.469, 0.5, 0.531, 0.562, 0.594, 0.625, 0.6559999999999999, 0.688, 0.7190000000000001, 0.75, 0.7809999999999999, 0.812, 0.8440000000000001, 0.875, 0.906, 0.938, 0.969, 1.0, 1.031, 1.062, 1.094, 1.125, 1.156, 1.188, 1.219, 1.25, 1.281, 1.3119999999999998, 1.344, 1.375, 1.406, 1.4380000000000002, 1.469, 1.5, 1.531, 1.5619999999999998, 1.594, 1.625, 1.656, 1.6880000000000002, 1.719, 1.75, 1.781, 1.812, 1.844, 1.875, 1.906, 1.938, 1.969, 2.0, 2.031, 2.062, 2.094, 2.125, 2.156, 2.188, 2.219, 2.25, 2.281, 2.312, 2.344, 2.375, 2.406, 2.438, 2.469, 2.5, 2.531, 2.562, 2.594, 2.625, 2.656, 2.688, 2.719, 2.75, 2.781, 2.812, 2.844, 2.875, 2.906, 2.938, 2.969, 3.0, 3.031, 3.062, 3.094, 3.125, 3.156, 3.188, 3.219, 3.25, 3.281, 3.312, 3.344, 3.375, 3.406, 3.438, 3.469, 3.5, 3.531, 3.562, 3.594, 3.625, 3.656, 3.688, 3.719, 3.75, 3.781, 3.812, 3.844, 3.875, 3.906, 3.938, 3.969, 4.0, 4.031000000000001, 4.062, 4.093999999999999, 4.125, 4.156000000000001, 4.188, 4.218999999999999, 4.25, 4.281000000000001, 4.312, 4.343999999999999, 4.375, 4.406000000000001, 4.438, 4.468999999999999, 4.5, 4.531000000000001, 4.562, 4.593999999999999, 4.625, 4.656000000000001, 4.688, 4.718999999999999, 4.75, 4.781000000000001, 4.812, 4.843999999999999, 4.875, 4.906000000000001, 4.938, 4.968999999999999, 5.0, 5.031000000000001, 5.062, 5.093999999999999, 5.125, 5.156000000000001, 5.188, 5.218999999999999, 5.25, 5.281000000000001, 5.312, 5.343999999999999, 5.375, 5.406000000000001, 5.438, 5.468999999999999, 5.5, 5.531000000000001, 5.562, 5.593999999999999, 5.625, 5.656000000000001, 5.688, 5.718999999999999, 5.75, 5.781000000000001, 5.812, 5.843999999999999, 5.875, 5.906000000000001, 5.938, 5.968999999999999, 6.0, 6.031000000000001, 6.062, 6.093999999999999, 6.125, 6.156000000000001, 6.188, 6.218999999999999, 6.25, 6.281000000000001, 6.312, 6.343999999999999, 6.375, 6.406000000000001, 6.438, 6.468999999999999, 6.5, 6.531000000000001, 6.562, 6.593999999999999, 6.625, 6.656000000000001, 6.688, 6.718999999999999, 6.75, 6.781000000000001, 6.812, 6.843999999999999, 6.875, 6.906000000000001, 6.938, 6.968999999999999, 7.0, 7.031000000000001, 7.062, 7.093999999999999, 7.125, 7.156000000000001, 7.188, 7.218999999999999, 7.25, 7.281000000000001, 7.312, 7.343999999999999, 7.375, 7.406000000000001, 7.438, 7.468999999999999, 7.5, 7.531000000000001, 7.562, 7.593999999999999, 7.625, 7.656000000000001, 7.688, 7.718999999999999, 7.75, 7.781000000000001, 7.812, 7.843999999999999, 7.875, 7.906000000000001, 7.938, 7.968999999999999, 8.0, 8.031, 8.062000000000001, 8.094, 8.125, 8.156, 8.187999999999999, 8.219, 8.25, 8.281, 8.312000000000001, 8.344, 8.375, 8.406, 8.437999999999999, 8.469, 8.5, 8.531, 8.562000000000001, 8.594, 8.625, 8.656, 8.687999999999999, 8.719, 8.75, 8.781, 8.812000000000001, 8.844, 8.875, 8.906, 8.937999999999999, 8.969, 9.0, 9.031, 9.062, 9.094, 9.125, 9.156, 9.188, 9.219, 9.25, 9.281, 9.312, 9.344, 9.375, 9.406, 9.438, 9.469, 9.5, 9.531, 9.562, 9.594, 9.625, 9.656, 9.688, 9.719, 9.75, 9.781, 9.812, 9.844, 9.875, 9.906, 9.938, 9.969, 10.0]\n"
     ]
    }
   ],
   "source": [
    "print('Original length of dataset:',len(jester_df))\n",
    "print('The original dataset has', jester_df['userId'].nunique(), 'unique users')\n",
    "print('The original dataset has', jester_df['itemId'].nunique(), 'unique jokes')\n",
    "print('The original dataset has', jester_df['rating'].nunique(), 'unique ratings')\n",
    "print('The unique ratings are', sorted(jester_df['rating'].unique()))"
   ]
  },
  {
   "attachments": {},
   "cell_type": "markdown",
   "metadata": {},
   "source": [
    "The ratings vary from -10 to 10 which may allow problems when working with mean ratings of users. Therefore each rating will be increased by 10 to create ratings from 0 to 20. "
   ]
  },
  {
   "cell_type": "code",
   "execution_count": 6,
   "metadata": {},
   "outputs": [
    {
     "name": "stdout",
     "output_type": "stream",
     "text": [
      "The unique ratings are [0.0, 0.031000000000000583, 0.06199999999999939, 0.09399999999999942, 0.125, 0.15600000000000058, 0.1880000000000006, 0.21899999999999942, 0.25, 0.2810000000000006, 0.3119999999999994, 0.3439999999999994, 0.375, 0.4060000000000006, 0.4380000000000006, 0.4689999999999994, 0.5, 0.5310000000000006, 0.5619999999999994, 0.5939999999999994, 0.625, 0.6560000000000006, 0.6880000000000006, 0.7189999999999994, 0.75, 0.7810000000000006, 0.8119999999999994, 0.8439999999999994, 0.875, 0.9060000000000006, 0.9380000000000006, 0.9689999999999994, 1.0, 1.0310000000000006, 1.0620000000000012, 1.0939999999999994, 1.125, 1.1560000000000006, 1.1879999999999988, 1.2189999999999994, 1.25, 1.2810000000000006, 1.3120000000000012, 1.3439999999999994, 1.375, 1.4060000000000006, 1.4379999999999988, 1.4689999999999994, 1.5, 1.5310000000000006, 1.5620000000000012, 1.5939999999999994, 1.625, 1.6560000000000006, 1.6879999999999988, 1.7189999999999994, 1.75, 1.7810000000000006, 1.8120000000000012, 1.8439999999999994, 1.875, 1.9060000000000006, 1.9379999999999988, 1.9689999999999994, 2.0, 2.0310000000000006, 2.0620000000000003, 2.0939999999999994, 2.125, 2.1560000000000006, 2.1879999999999997, 2.2189999999999994, 2.25, 2.2810000000000006, 2.3120000000000003, 2.3439999999999994, 2.375, 2.4060000000000006, 2.4379999999999997, 2.4689999999999994, 2.5, 2.5310000000000006, 2.5620000000000003, 2.5939999999999994, 2.625, 2.6560000000000006, 2.6879999999999997, 2.7189999999999994, 2.75, 2.7810000000000006, 2.8120000000000003, 2.8439999999999994, 2.875, 2.9060000000000006, 2.9379999999999997, 2.9689999999999994, 3.0, 3.0310000000000006, 3.0620000000000003, 3.0939999999999994, 3.125, 3.1560000000000006, 3.1879999999999997, 3.2189999999999994, 3.25, 3.2810000000000006, 3.3120000000000003, 3.3439999999999994, 3.375, 3.4060000000000006, 3.4379999999999997, 3.4689999999999994, 3.5, 3.5310000000000006, 3.5620000000000003, 3.5939999999999994, 3.625, 3.6560000000000006, 3.6879999999999997, 3.7189999999999994, 3.75, 3.7810000000000006, 3.8120000000000003, 3.8439999999999994, 3.875, 3.9060000000000006, 3.9379999999999997, 3.9689999999999994, 4.0, 4.031000000000001, 4.062, 4.093999999999999, 4.125, 4.156000000000001, 4.188, 4.218999999999999, 4.25, 4.281000000000001, 4.312, 4.343999999999999, 4.375, 4.406000000000001, 4.438, 4.468999999999999, 4.5, 4.531000000000001, 4.562, 4.593999999999999, 4.625, 4.656000000000001, 4.688, 4.718999999999999, 4.75, 4.781000000000001, 4.812, 4.843999999999999, 4.875, 4.906000000000001, 4.938, 4.968999999999999, 5.0, 5.031000000000001, 5.062, 5.093999999999999, 5.125, 5.156000000000001, 5.188, 5.218999999999999, 5.25, 5.281000000000001, 5.312, 5.343999999999999, 5.375, 5.406000000000001, 5.438, 5.468999999999999, 5.5, 5.531000000000001, 5.562, 5.593999999999999, 5.625, 5.656000000000001, 5.688, 5.718999999999999, 5.75, 5.781000000000001, 5.812, 5.843999999999999, 5.875, 5.906000000000001, 5.938, 5.968999999999999, 6.0, 6.031000000000001, 6.061999999999999, 6.093999999999999, 6.125, 6.156000000000001, 6.188000000000001, 6.218999999999999, 6.25, 6.281000000000001, 6.311999999999999, 6.343999999999999, 6.375, 6.406000000000001, 6.438000000000001, 6.468999999999999, 6.5, 6.531000000000001, 6.561999999999999, 6.593999999999999, 6.625, 6.656000000000001, 6.688000000000001, 6.718999999999999, 6.75, 6.781000000000001, 6.811999999999999, 6.843999999999999, 6.875, 6.906000000000001, 6.938000000000001, 6.968999999999999, 7.0, 7.031000000000001, 7.061999999999999, 7.093999999999999, 7.125, 7.156000000000001, 7.188000000000001, 7.218999999999999, 7.25, 7.281000000000001, 7.311999999999999, 7.343999999999999, 7.375, 7.406000000000001, 7.438000000000001, 7.468999999999999, 7.5, 7.531000000000001, 7.561999999999999, 7.593999999999999, 7.625, 7.656000000000001, 7.688000000000001, 7.718999999999999, 7.75, 7.781000000000001, 7.811999999999999, 7.843999999999999, 7.875, 7.906000000000001, 7.938000000000001, 7.968999999999999, 8.0, 8.031, 8.062, 8.094, 8.125, 8.156, 8.188, 8.219, 8.25, 8.281, 8.312, 8.344, 8.375, 8.406, 8.438, 8.469, 8.5, 8.531, 8.562, 8.594, 8.625, 8.656, 8.688, 8.719, 8.75, 8.781, 8.812, 8.844, 8.875, 8.906, 8.938, 8.969, 9.0, 9.031, 9.062, 9.094, 9.125, 9.156, 9.188, 9.219, 9.25, 9.281, 9.312, 9.344, 9.375, 9.406, 9.438, 9.469, 9.5, 9.531, 9.562, 9.594, 9.625, 9.656, 9.688, 9.719, 9.75, 9.781, 9.812, 9.844, 9.875, 9.906, 9.938, 9.969, 10.0, 10.031, 10.062, 10.094, 10.125, 10.156, 10.188, 10.219, 10.25, 10.281, 10.312, 10.344, 10.375, 10.406, 10.438, 10.469, 10.5, 10.531, 10.562, 10.594, 10.625, 10.656, 10.688, 10.719, 10.75, 10.781, 10.812, 10.844, 10.875, 10.906, 10.938, 10.969, 11.0, 11.031, 11.062, 11.094, 11.125, 11.156, 11.188, 11.219, 11.25, 11.281, 11.312, 11.344, 11.375, 11.406, 11.438, 11.469, 11.5, 11.531, 11.562, 11.594, 11.625, 11.656, 11.688, 11.719, 11.75, 11.781, 11.812, 11.844, 11.875, 11.906, 11.938, 11.969, 12.0, 12.031, 12.062, 12.094, 12.125, 12.156, 12.188, 12.219, 12.25, 12.281, 12.312, 12.344, 12.375, 12.406, 12.438, 12.469, 12.5, 12.531, 12.562, 12.594, 12.625, 12.656, 12.688, 12.719, 12.75, 12.781, 12.812, 12.844, 12.875, 12.906, 12.938, 12.969, 13.0, 13.031, 13.062, 13.094, 13.125, 13.156, 13.188, 13.219, 13.25, 13.281, 13.312, 13.344, 13.375, 13.406, 13.438, 13.469, 13.5, 13.531, 13.562, 13.594, 13.625, 13.656, 13.688, 13.719, 13.75, 13.781, 13.812, 13.844, 13.875, 13.906, 13.938, 13.969, 14.0, 14.031, 14.062000000000001, 14.094, 14.125, 14.156, 14.187999999999999, 14.219, 14.25, 14.281, 14.312000000000001, 14.344, 14.375, 14.406, 14.437999999999999, 14.469, 14.5, 14.531, 14.562000000000001, 14.594, 14.625, 14.656, 14.687999999999999, 14.719, 14.75, 14.781, 14.812000000000001, 14.844, 14.875, 14.906, 14.937999999999999, 14.969, 15.0, 15.031, 15.062000000000001, 15.094, 15.125, 15.156, 15.187999999999999, 15.219, 15.25, 15.281, 15.312000000000001, 15.344, 15.375, 15.406, 15.437999999999999, 15.469, 15.5, 15.531, 15.562000000000001, 15.594, 15.625, 15.656, 15.687999999999999, 15.719, 15.75, 15.781, 15.812000000000001, 15.844, 15.875, 15.906, 15.937999999999999, 15.969, 16.0, 16.031, 16.062, 16.094, 16.125, 16.156, 16.188, 16.219, 16.25, 16.281, 16.312, 16.344, 16.375, 16.406, 16.438, 16.469, 16.5, 16.531, 16.562, 16.594, 16.625, 16.656, 16.688, 16.719, 16.75, 16.781, 16.812, 16.844, 16.875, 16.906, 16.938, 16.969, 17.0, 17.031, 17.062, 17.094, 17.125, 17.156, 17.188, 17.219, 17.25, 17.281, 17.312, 17.344, 17.375, 17.406, 17.438, 17.469, 17.5, 17.531, 17.562, 17.594, 17.625, 17.656, 17.688, 17.719, 17.75, 17.781, 17.812, 17.844, 17.875, 17.906, 17.938, 17.969, 18.0, 18.031, 18.062, 18.094, 18.125, 18.156, 18.188, 18.219, 18.25, 18.281, 18.312, 18.344, 18.375, 18.406, 18.438, 18.469, 18.5, 18.531, 18.562, 18.594, 18.625, 18.656, 18.688, 18.719, 18.75, 18.781, 18.812, 18.844, 18.875, 18.906, 18.938, 18.969, 19.0, 19.031, 19.061999999999998, 19.094, 19.125, 19.156, 19.188000000000002, 19.219, 19.25, 19.281, 19.311999999999998, 19.344, 19.375, 19.406, 19.438000000000002, 19.469, 19.5, 19.531, 19.561999999999998, 19.594, 19.625, 19.656, 19.688000000000002, 19.719, 19.75, 19.781, 19.811999999999998, 19.844, 19.875, 19.906, 19.938000000000002, 19.969, 20.0]\n"
     ]
    }
   ],
   "source": [
    "jester_df['rating'] = jester_df['rating'] + 10\n",
    "print('The unique ratings are', sorted(jester_df['rating'].unique()))"
   ]
  },
  {
   "attachments": {},
   "cell_type": "markdown",
   "metadata": {},
   "source": [
    "# Data filtering"
   ]
  },
  {
   "attachments": {},
   "cell_type": "markdown",
   "metadata": {},
   "source": [
    "In order to filter the dataset based on activity and reduce the sparsity of the data, the data will be grouped and filtered based on jokes and users. The datasets will show how many ratings each joke has gotten and the amount of ratings a user has given."
   ]
  },
  {
   "cell_type": "code",
   "execution_count": 7,
   "metadata": {},
   "outputs": [
    {
     "data": {
      "text/html": [
       "<div>\n",
       "<style scoped>\n",
       "    .dataframe tbody tr th:only-of-type {\n",
       "        vertical-align: middle;\n",
       "    }\n",
       "\n",
       "    .dataframe tbody tr th {\n",
       "        vertical-align: top;\n",
       "    }\n",
       "\n",
       "    .dataframe thead th {\n",
       "        text-align: right;\n",
       "    }\n",
       "</style>\n",
       "<table border=\"1\" class=\"dataframe\">\n",
       "  <thead>\n",
       "    <tr style=\"text-align: right;\">\n",
       "      <th></th>\n",
       "      <th>itemId</th>\n",
       "      <th>user_count</th>\n",
       "    </tr>\n",
       "  </thead>\n",
       "  <tbody>\n",
       "    <tr>\n",
       "      <th>0</th>\n",
       "      <td>5</td>\n",
       "      <td>661</td>\n",
       "    </tr>\n",
       "    <tr>\n",
       "      <th>1</th>\n",
       "      <td>7</td>\n",
       "      <td>59122</td>\n",
       "    </tr>\n",
       "    <tr>\n",
       "      <th>2</th>\n",
       "      <td>8</td>\n",
       "      <td>57720</td>\n",
       "    </tr>\n",
       "  </tbody>\n",
       "</table>\n",
       "</div>"
      ],
      "text/plain": [
       "   itemId  user_count\n",
       "0       5         661\n",
       "1       7       59122\n",
       "2       8       57720"
      ]
     },
     "metadata": {},
     "output_type": "display_data"
    },
    {
     "data": {
      "text/html": [
       "<div>\n",
       "<style scoped>\n",
       "    .dataframe tbody tr th:only-of-type {\n",
       "        vertical-align: middle;\n",
       "    }\n",
       "\n",
       "    .dataframe tbody tr th {\n",
       "        vertical-align: top;\n",
       "    }\n",
       "\n",
       "    .dataframe thead th {\n",
       "        text-align: right;\n",
       "    }\n",
       "</style>\n",
       "<table border=\"1\" class=\"dataframe\">\n",
       "  <thead>\n",
       "    <tr style=\"text-align: right;\">\n",
       "      <th></th>\n",
       "      <th>userId</th>\n",
       "      <th>item_count</th>\n",
       "    </tr>\n",
       "  </thead>\n",
       "  <tbody>\n",
       "    <tr>\n",
       "      <th>0</th>\n",
       "      <td>1</td>\n",
       "      <td>62</td>\n",
       "    </tr>\n",
       "    <tr>\n",
       "      <th>1</th>\n",
       "      <td>2</td>\n",
       "      <td>34</td>\n",
       "    </tr>\n",
       "    <tr>\n",
       "      <th>2</th>\n",
       "      <td>3</td>\n",
       "      <td>18</td>\n",
       "    </tr>\n",
       "  </tbody>\n",
       "</table>\n",
       "</div>"
      ],
      "text/plain": [
       "   userId  item_count\n",
       "0       1          62\n",
       "1       2          34\n",
       "2       3          18"
      ]
     },
     "metadata": {},
     "output_type": "display_data"
    }
   ],
   "source": [
    "jester_item_count = jester_df[['itemId','userId']].groupby('itemId').count().reset_index().rename(columns={'userId':'user_count'})\n",
    "jester_user_count = jester_df[['itemId','userId']].groupby('userId').count().reset_index().rename(columns={'itemId':'item_count'})\n",
    "\n",
    "display(jester_item_count.head(3),jester_user_count.head(3))"
   ]
  },
  {
   "attachments": {},
   "cell_type": "markdown",
   "metadata": {},
   "source": [
    "To reduce the sparcity of data in the dataset, we will filter out users that have rated fewer than 5% of the total amount of jokes."
   ]
  },
  {
   "cell_type": "code",
   "execution_count": 8,
   "metadata": {},
   "outputs": [
    {
     "name": "stdout",
     "output_type": "stream",
     "text": [
      "Length of dataset: 1729140\n"
     ]
    }
   ],
   "source": [
    "filtered_jester_df = jester_df[jester_df['userId'].isin(jester_user_count[jester_user_count['item_count']/len(jester_item_count) > 0.05]['userId'])]\n",
    "\n",
    "print('Length of dataset:',len(filtered_jester_df))"
   ]
  },
  {
   "attachments": {},
   "cell_type": "markdown",
   "metadata": {},
   "source": [
    "Finally, jokes that have been rated by fewer than 20 people will be filtered out of the dataset."
   ]
  },
  {
   "cell_type": "code",
   "execution_count": 9,
   "metadata": {},
   "outputs": [
    {
     "name": "stdout",
     "output_type": "stream",
     "text": [
      "Length of dataset: 1729140\n"
     ]
    }
   ],
   "source": [
    "filtered_jester_df = filtered_jester_df[filtered_jester_df['itemId'].isin(jester_item_count[jester_item_count['user_count']>20]['itemId'])]\n",
    "\n",
    "print('Length of dataset:',len(filtered_jester_df))"
   ]
  },
  {
   "attachments": {},
   "cell_type": "markdown",
   "metadata": {},
   "source": [
    "# EDA"
   ]
  },
  {
   "attachments": {},
   "cell_type": "markdown",
   "metadata": {},
   "source": [
    "t.b.d."
   ]
  },
  {
   "attachments": {},
   "cell_type": "markdown",
   "metadata": {},
   "source": [
    "# KNN Model Creation"
   ]
  },
  {
   "attachments": {},
   "cell_type": "markdown",
   "metadata": {},
   "source": [
    "Pivot the dataset into a matrix with index='itemId', columns='userId', values='rating' in order to later perform content-based collaborative filtering. Moreover, fill_value = 0 in order to remove NaN values and save them as 0. Finally, the matrix is directly stored as a sparse matrix to save memory, instead of first saving the entire matrix into memory. "
   ]
  },
  {
   "cell_type": "code",
   "execution_count": 10,
   "metadata": {},
   "outputs": [
    {
     "data": {
      "text/plain": [
       "<bound method _cs_matrix.check_format of <140x50712 sparse matrix of type '<class 'numpy.float64'>'\n",
       "\twith 1727548 stored elements in Compressed Sparse Row format>>"
      ]
     },
     "execution_count": 10,
     "metadata": {},
     "output_type": "execute_result"
    }
   ],
   "source": [
    "sparse_matrix = csr_matrix(filtered_jester_df.pivot_table(index='itemId', columns='userId', values='rating').subtract(filtered_jester_df.pivot_table(index='itemId', columns='userId', values='rating').mean(axis=0), axis = 'columns').fillna(0).values)\n",
    "sparse_matrix.check_format"
   ]
  },
  {
   "attachments": {},
   "cell_type": "markdown",
   "metadata": {},
   "source": [
    "Splitting the dataset into 70% training, 15% validation and 15% testing data"
   ]
  },
  {
   "cell_type": "code",
   "execution_count": 11,
   "metadata": {},
   "outputs": [],
   "source": [
    "train_data, test_data = train_test_split(sparse_matrix, test_size=.30)\n",
    "test_data, validation_data = train_test_split(test_data, test_size=.50)"
   ]
  },
  {
   "attachments": {},
   "cell_type": "markdown",
   "metadata": {},
   "source": [
    "A function has to be created to perform hyper parameter tuning for our KNN RecSys model, as NearestNeighbors and kneighbors do not work using the standard GridSearch function."
   ]
  },
  {
   "cell_type": "code",
   "execution_count": 12,
   "metadata": {},
   "outputs": [],
   "source": [
    "def evaluate_predictions(pred, truth):\n",
    "    pred = pred[truth.nonzero()].flatten()\n",
    "    truth = truth[truth.nonzero()].flatten()\n",
    "    rmse = np.sqrt(mean_squared_error(pred,truth))\n",
    "    mae = mean_absolute_error(pred,truth)\n",
    "    return rmse, mae"
   ]
  },
  {
   "attachments": {},
   "cell_type": "markdown",
   "metadata": {},
   "source": [
    "1. Create NearestNeighbors model\n",
    "1. Fit the model with train data\n",
    "1. Use kneighbors to find the k amount of neighbors of the jokes in the test data\n",
    "1. Calculate the prediction by taking the average score of the k most similar jokes\n",
    "1. Evaluate the model by comparing the actual ratings with the predicted ratings"
   ]
  },
  {
   "attachments": {},
   "cell_type": "markdown",
   "metadata": {},
   "source": [
    "Algorithm is set at brute (force) because the inputdata is sparse"
   ]
  },
  {
   "cell_type": "code",
   "execution_count": 30,
   "metadata": {},
   "outputs": [],
   "source": [
    "def create_knn_model(metric='cosine',k = 5,n_neighbors = 20,testdata=validation_data):\n",
    "    knn_model = NearestNeighbors(metric=metric,algorithm='brute',n_neighbors=n_neighbors,n_jobs=-1)\n",
    "\n",
    "    knn_model_fitted = knn_model.fit(train_data.toarray())\n",
    "    distance, indices = knn_model_fitted.kneighbors(testdata.toarray(),k)\n",
    "\n",
    "    similarity = 1 - distance\n",
    "    predictions = similarity.T.dot(testdata.toarray()) / np.array([np.abs(similarity.T).sum(axis = 1)]).T\n",
    "    truth = testdata.toarray()[similarity.argsort()[0]]\n",
    "    \n",
    "    rmse, mae = evaluate_predictions(predictions,truth)\n",
    "    \n",
    "    return rmse, knn_model_fitted"
   ]
  },
  {
   "attachments": {},
   "cell_type": "markdown",
   "metadata": {},
   "source": [
    "Hyperparameter tuning by hand:"
   ]
  },
  {
   "cell_type": "code",
   "execution_count": 31,
   "metadata": {},
   "outputs": [
    {
     "name": "stdout",
     "output_type": "stream",
     "text": [
      "[[4.10518002301106, 'euclidean', 3, 5], [4.10518002301106, 'euclidean', 3, 10], [4.10518002301106, 'euclidean', 3, 20], [4.10518002301106, 'euclidean', 3, 50], [4.07125004122666, 'euclidean', 5, 5], [4.07125004122666, 'euclidean', 5, 10], [4.07125004122666, 'euclidean', 5, 20], [4.07125004122666, 'euclidean', 5, 50], [4.127616453538912, 'euclidean', 10, 5], [4.127616453538912, 'euclidean', 10, 10], [4.127616453538912, 'euclidean', 10, 20], [4.127616453538912, 'euclidean', 10, 50], [4.232916152990279, 'manhattan', 3, 5], [4.232916152990279, 'manhattan', 3, 10], [4.232916152990279, 'manhattan', 3, 20], [4.232916152990279, 'manhattan', 3, 50], [4.178803063955458, 'manhattan', 5, 5], [4.178803063955458, 'manhattan', 5, 10], [4.178803063955458, 'manhattan', 5, 20], [4.178803063955458, 'manhattan', 5, 50], [4.2616701543585584, 'manhattan', 10, 5], [4.2616701543585584, 'manhattan', 10, 10], [4.2616701543585584, 'manhattan', 10, 20], [4.2616701543585584, 'manhattan', 10, 50], [4.089362328349946, 'cosine', 3, 5], [4.089362328349946, 'cosine', 3, 10], [4.089362328349946, 'cosine', 3, 20], [4.089362328349946, 'cosine', 3, 50], [4.090194320669626, 'cosine', 5, 5], [4.090194320669626, 'cosine', 5, 10], [4.090194320669626, 'cosine', 5, 20], [4.090194320669626, 'cosine', 5, 50], [3.9879673072753534, 'cosine', 10, 5], [3.9879673072753534, 'cosine', 10, 10], [3.9879673072753534, 'cosine', 10, 20], [3.9879673072753534, 'cosine', 10, 50], [4.10518002301106, 'minkowski', 3, 5], [4.10518002301106, 'minkowski', 3, 10], [4.10518002301106, 'minkowski', 3, 20], [4.10518002301106, 'minkowski', 3, 50], [4.07125004122666, 'minkowski', 5, 5], [4.07125004122666, 'minkowski', 5, 10], [4.07125004122666, 'minkowski', 5, 20], [4.07125004122666, 'minkowski', 5, 50], [4.127616453538912, 'minkowski', 10, 5], [4.127616453538912, 'minkowski', 10, 10], [4.127616453538912, 'minkowski', 10, 20], [4.127616453538912, 'minkowski', 10, 50]]\n"
     ]
    }
   ],
   "source": [
    "n_neighbors = [5,10,20,50]\n",
    "recommendation_amount = [3,5,10]\n",
    "metric = ['euclidean','manhattan','cosine','minkowski']\n",
    "\n",
    "hpt_results = []\n",
    "for met in metric:\n",
    "    for k in recommendation_amount:\n",
    "        for n in n_neighbors:\n",
    "            hpt_results.append([create_knn_model(metric=met, k=k,n_neighbors=n,testdata=validation_data)[0],met,k,n])\n",
    "print(hpt_results)"
   ]
  },
  {
   "cell_type": "code",
   "execution_count": 32,
   "metadata": {},
   "outputs": [
    {
     "name": "stdout",
     "output_type": "stream",
     "text": [
      "[3.9879673072753534, 'cosine', 10, 5]\n"
     ]
    }
   ],
   "source": [
    "best_parameters = sorted(hpt_results, key=lambda x: x[0])[0]\n",
    "print(best_parameters)"
   ]
  },
  {
   "attachments": {},
   "cell_type": "markdown",
   "metadata": {},
   "source": [
    "Evaluating the model with test data"
   ]
  },
  {
   "cell_type": "code",
   "execution_count": 33,
   "metadata": {},
   "outputs": [
    {
     "name": "stdout",
     "output_type": "stream",
     "text": [
      "3.8440879086703252\n"
     ]
    }
   ],
   "source": [
    "rmse, model = create_knn_model(metric=best_parameters[1], k=best_parameters[2],n_neighbors=best_parameters[3],testdata = test_data)\n",
    "\n",
    "print(rmse)"
   ]
  }
 ],
 "metadata": {
  "kernelspec": {
   "display_name": "base",
   "language": "python",
   "name": "python3"
  },
  "language_info": {
   "codemirror_mode": {
    "name": "ipython",
    "version": 3
   },
   "file_extension": ".py",
   "mimetype": "text/x-python",
   "name": "python",
   "nbconvert_exporter": "python",
   "pygments_lexer": "ipython3",
   "version": "3.9.13"
  },
  "orig_nbformat": 4
 },
 "nbformat": 4,
 "nbformat_minor": 2
}
